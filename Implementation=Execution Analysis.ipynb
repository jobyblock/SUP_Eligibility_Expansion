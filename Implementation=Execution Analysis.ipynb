{
 "cells": [
  {
   "cell_type": "markdown",
   "metadata": {
    "application/vnd.databricks.v1+cell": {
     "cellMetadata": {
      "byteLimit": 2048000,
      "rowLimit": 10000
     },
     "inputWidgets": {},
     "nuid": "331d9da2-f33d-4af0-a7ef-811acc417a1d",
     "showTitle": false,
     "tableResultSettingsMap": {},
     "title": ""
    }
   },
   "source": [
    " Implementation vs Execution Analysis\n",
    "> A data-driven analysis comparing planned implementation against actual execution metrics\n",
    "\n",
    "- **Author:** Joby George\n",
    "- **Date:** April 9, 2025\n",
    "- **Last Updated:** April 9, 2025\n",
    "\n",
    "# Project Context\n",
    "### Single Use Product (SUP) Eligibility Expansion Test\n",
    "This analysis focuses on the preliminary smoke screen testing phase for the SUP eligibility expansion project. The smoke screen test serves as a critical validation step before the full rollout scheduled for April 16, 2025.\n",
    "\n",
    "**Test Objectives:**\n",
    "- Validate the expanded eligibility criteria implementation\n",
    "- Verify system behavior with new eligibility rules\n",
    "- Identify potential issues before full rollout\n",
    "- Ensure data consistency and accuracy\n",
    "\n",
    "**Timeline:**\n",
    "- Smoke Screen Test: April 9-15, 2025\n",
    "- Full Rollout: April 16, 2025\n",
    "\n",
    "### Test Design\n",
    "The smoke screen test implements a three-way split of the customer population:\n",
    "\n",
    "| Group | Size | Treatment |\n",
    "|-------|------|-----------|\n",
    "| Control | 80% | Current eligibility rules (no changes) |\n",
    "| Treatment A | 10% | Expanded merchant selection |\n",
    "| Treatment B | 10% | Expanded merchant selection + reduced transaction declines |\n",
    "\n",
    "**Treatment Details:**\n",
    "1. **Control Group (80%)**\n",
    "   - Maintains current SUP eligibility criteria\n",
    "   - Serves as baseline for comparison\n",
    "\n",
    "2. **Treatment A (10%)**\n",
    "   - Implements expanded merchant selection\n",
    "   - Tests impact of broader merchant eligibility\n",
    "\n",
    "3. **Treatment B (10%)**\n",
    "   - Implements expanded merchant selection\n",
    "   - Includes reduced transaction decline criteria\n",
    "   - Tests combined impact of both changes\n",
    "\n",
    "## Overview\n",
    "This notebook provides a comprehensive analysis comparing implementation plans against actual execution metrics. The analysis aims to:\n",
    "- Identify gaps between planned and actual execution\n",
    "\n",
    "\n",
    "## Table of Contents\n",
    "1. Data Preparation\n",
    "2. Validating the Experiment\n"
   ]
  },
  {
   "cell_type": "markdown",
   "metadata": {
    "application/vnd.databricks.v1+cell": {
     "cellMetadata": {
      "byteLimit": 2048000,
      "rowLimit": 10000
     },
     "inputWidgets": {},
     "nuid": "040017cd-a57a-4737-af5b-45a990362fdb",
     "showTitle": false,
     "tableResultSettingsMap": {},
     "title": ""
    }
   },
   "source": [
    "## Step 1: Data Preparation\n",
    "### Package Imports and Database Connection Setup\n",
    "This section initializes our analysis environment by:\n",
    "1. Importing required Python packages\n",
    "2. Establishing connection to Snowflake\n",
    "3. Setting up display configurations for optimal notebook readability\n",
    "\n"
   ]
  },
  {
   "cell_type": "code",
   "execution_count": 0,
   "metadata": {
    "application/vnd.databricks.v1+cell": {
     "cellMetadata": {
      "byteLimit": 2048000,
      "rowLimit": 10000
     },
     "inputWidgets": {},
     "nuid": "f02c1da8-4036-41cb-8ec6-71f6ffec8f61",
     "showTitle": false,
     "tableResultSettingsMap": {},
     "title": ""
    }
   },
   "outputs": [],
   "source": [
    "#set up\n",
    "\n",
    "import json\n",
    "import matplotlib.pyplot as plt\n",
    "import seaborn as sns\n",
    "from datetime import datetime, timedelta\n",
    "import pandas as pd\n",
    "import numpy as np\n",
    "\n",
    "# from utils import policy_dict, policy_data_dict, find_non_zero_riskweight_rules, find_zero_riskweight_rules\n",
    "from pandasql import sqldf\n",
    "from tqdm import tqdm\n",
    "import logging\n",
    "\n",
    "# Standard data manipulation and visualization packages\n",
    "import pandas as pd\n",
    "import numpy as np\n",
    "\n",
    "\n",
    "# Display settings\n",
    "pd.set_option('display.max_columns', None)  # Show all columns\n",
    "pd.set_option('display.max_rows', 100)      # Show 100 rows max\n",
    "pd.set_option('display.width', None)        # Auto-detect display width\n",
    "pd.set_option('display.float_format', lambda x: '%.3f' % x)  # Format floats to 3 decimal places\n",
    "\n",
    "# Plotting settings\n",
    "plt.style.use('seaborn')\n",
    "sns.set_palette(\"husl\")\n",
    "plt.rcParams['figure.figsize'] = [12, 6]  # Set default figure size\n",
    "\n",
    "\n",
    "from pysnowflake import Session\n",
    "run_query = lambda query: sqldf(query, globals())\n",
    "\n",
    "\n"
   ]
  },
  {
   "cell_type": "code",
   "execution_count": 0,
   "metadata": {
    "application/vnd.databricks.v1+cell": {
     "cellMetadata": {
      "byteLimit": 2048000,
      "rowLimit": 10000
     },
     "inputWidgets": {},
     "nuid": "fe618167-c223-4924-84e4-3f604d13c89f",
     "showTitle": false,
     "tableResultSettingsMap": {},
     "title": ""
    }
   },
   "outputs": [],
   "source": [
    "USER_NAME = 'jobyg' #replace it with your ldap name\n",
    "sess = Session(\n",
    "   connection_override_args={\n",
    "       'autocommit': True,\n",
    "       'authenticator': 'externalbrowser',\n",
    "       'account': 'square',\n",
    "       'database': f'PERSONAL_{USER_NAME.upper()}',\n",
    "       'user': f'{USER_NAME}@squareup.com'\n",
    "   }\n",
    "   \n",
    ")\n",
    "conn = sess.open()\n",
    "\n"
   ]
  },
  {
   "cell_type": "code",
   "execution_count": 0,
   "metadata": {
    "application/vnd.databricks.v1+cell": {
     "cellMetadata": {
      "byteLimit": 2048000,
      "rowLimit": 10000
     },
     "inputWidgets": {},
     "nuid": "2c928680-1f45-44f2-b31b-9e3e6ae59a1f",
     "showTitle": false,
     "tableResultSettingsMap": {},
     "title": ""
    }
   },
   "outputs": [],
   "source": [
    "conn.execute('use warehouse ADHOC__LARGE')\n",
    "conn.execute('use database AP_CUR_FRDRISK_G')\n",
    "conn.execute('use schema public')\n",
    "\n"
   ]
  },
  {
   "cell_type": "markdown",
   "metadata": {
    "application/vnd.databricks.v1+cell": {
     "cellMetadata": {},
     "inputWidgets": {},
     "nuid": "91415060-8496-4bea-b55e-48d3ab88a908",
     "showTitle": false,
     "tableResultSettingsMap": {},
     "title": ""
    }
   },
   "source": [
    "#Step 2:\n",
    "### Validating the Experiment\n",
    "This section reviews the querying of the data to confirm the execution of the rules is as intended"
   ]
  },
  {
   "cell_type": "code",
   "execution_count": 0,
   "metadata": {
    "application/vnd.databricks.v1+cell": {
     "cellMetadata": {
      "byteLimit": 2048000,
      "rowLimit": 10000
     },
     "inputWidgets": {},
     "nuid": "31d7b322-06b8-490f-b19a-d8fab1436db5",
     "showTitle": false,
     "tableResultSettingsMap": {},
     "title": ""
    }
   },
   "outputs": [],
   "source": [
    "#Step 1: Create base driver for all eligibility checkpoints, \n",
    "driver = '''create or replace temp table base_events AS (\n",
    "    SELECT \n",
    "        a.*,\n",
    "         parse_json((extra))['transient_features']['holdout_group'] as holdout_group,  \n",
    "    parse_json((extra))['transient_features']['pre_expansion_risk_tier'] as pre_expansion_Risk_Tier,\n",
    "    parse_json((extra))['transient_features']['test_key'] as test_key,\n",
    "        c.first_order_date,\n",
    "        CASE \n",
    "            WHEN c.first_order_date IS NULL THEN 'new'\n",
    "            WHEN DATEDIFF('day', c.first_order_date, a.par_process_date) <= 14 THEN 'new'\n",
    "            ELSE 'existing'\n",
    "        END as customer_tenure\n",
    "    FROM ap_cur_r_featsci.curated_feature_science_red.raw_r_e_rekarma_rl_exec_rslt_rules_rt__jobyg_dsl3_sv a\n",
    "    LEFT JOIN AP_RAW_GREEN.GREEN.D_CONSUMER c\n",
    "        ON a.consumer_uuid = c.uuid\n",
    "    WHERE a.par_process_date >= '2024-04-09'\n",
    ")'''\n",
    "conn.execute(driver)\n",
    "\n",
    "\n"
   ]
  },
  {
   "cell_type": "code",
   "execution_count": 0,
   "metadata": {
    "application/vnd.databricks.v1+cell": {
     "cellMetadata": {
      "byteLimit": 2048000,
      "rowLimit": 10000
     },
     "inputWidgets": {},
     "nuid": "1d35bfff-0fd7-4d99-9572-f82809a9608d",
     "showTitle": false,
     "tableResultSettingsMap": {},
     "title": ""
    }
   },
   "outputs": [],
   "source": [
    "#confirm impact is only to EU new users\n",
    "prelim_validation = conn.download('''select par_region, \n",
    "                        customer_tenure,\n",
    "                        count(distinct(case when rule_id = 'gb_fraud_online_sup_eligibility_model_risk_filter_elgibility_experiment' and actions != '[]' then consumer_uuid  end)) as consumer_ct\n",
    "                        from base_events\n",
    "                        group by 1,2\n",
    "                        order by 1,2\n",
    "              ''')\n",
    "\n",
    "print(prelim_validation)"
   ]
  },
  {
   "cell_type": "code",
   "execution_count": 0,
   "metadata": {
    "application/vnd.databricks.v1+cell": {
     "cellMetadata": {
      "byteLimit": 2048000,
      "rowLimit": 10000
     },
     "inputWidgets": {},
     "nuid": "28285611-7c9d-4004-9f27-160736cca3bd",
     "showTitle": false,
     "tableResultSettingsMap": {},
     "title": ""
    }
   },
   "outputs": [],
   "source": [
    "#Confirm for EU new users, the 80% are being treated as BAU\n",
    "eligbility_pop = '''create or replace temp table eligibility_pop as (select *,\n",
    "                          \n",
    "     from base_events where rule_id = 'gb_fraud_online_sup_eligibility_model_risk_filter_elgibility_experiment' and actions != '[]');'''\n",
    "conn.execute(eligbility_pop)\n",
    "\n",
    "## Confirm 80% are in bau_control\n",
    "confirm_treatment_splits = conn.download('''WITH counts AS (\n",
    "    SELECT \n",
    "        holdout_group,\n",
    "        COUNT(distinct(consumer_uuid)) as count\n",
    "    FROM eligibility_pop\n",
    "    GROUP BY 1\n",
    ")\n",
    "SELECT \n",
    "    holdout_group,\n",
    "    count,\n",
    "    ROUND(100.0 * count / SUM(count) OVER (), 2) as percentage\n",
    "FROM counts\n",
    "ORDER BY count DESC;\n",
    "''')\n",
    "print(confirm_treatment_splits) #percentages are looking appropriate"
   ]
  },
  {
   "cell_type": "code",
   "execution_count": 0,
   "metadata": {
    "application/vnd.databricks.v1+cell": {
     "cellMetadata": {
      "byteLimit": 2048000,
      "rowLimit": 10000
     },
     "inputWidgets": {},
     "nuid": "748620c0-d53a-4b2d-9f07-436f08aeb5da",
     "showTitle": false,
     "tableResultSettingsMap": {},
     "title": ""
    }
   },
   "outputs": [],
   "source": [
    "#Confirm BAU control is giving all merchants to L risk and all - 2 merchants in the H risk, where Amazon and Iceland are excluded\n",
    "\n",
    "confirm_bau_control = conn.download(''' \n",
    "                    select \n",
    "    pre_expansion_Risk_Tier,\n",
    "    case when actions ilike '%400517492%' then 1 else 0 end as amazon_enabled_flag,\n",
    "    case when actions ilike '%400461110%' then 1 else 0 end as ebay_enabled_flag,\n",
    "    case when (length(actions) - 94) <= 0 then 0\n",
    "       else round((length(actions) - 94)/12)\n",
    "       end as merchant_ct,\n",
    "    count(distinct(consumer_uuid)) as consumer_ct\n",
    "    from eligibility_pop,\n",
    "    where holdout_group = 'bau_control'\n",
    "    group by 1,2,3,4\n",
    "                    ''' )\n",
    "#no amazon and ebay in high risk tiers, all merchants in low_risk\n",
    "print(confirm_bau_control)"
   ]
  },
  {
   "cell_type": "code",
   "execution_count": 0,
   "metadata": {
    "application/vnd.databricks.v1+cell": {
     "cellMetadata": {
      "byteLimit": 2048000,
      "rowLimit": 10000
     },
     "inputWidgets": {},
     "nuid": "3b268742-3746-480b-9f24-ac5180cab430",
     "showTitle": false,
     "tableResultSettingsMap": {},
     "title": ""
    }
   },
   "outputs": [],
   "source": [
    "#Confirm holdout group is working as intended where all customers have 54 merchants enabled,\n",
    "confirm_bau_control = conn.download(''' \n",
    "                    select \n",
    "    holdout_Group,\n",
    "    pre_expansion_Risk_Tier,\n",
    "    case when actions ilike '%400517492%' then 1 else 0 end as amazon_enabled_flag,\n",
    "    case when actions ilike '%400461110%' then 1 else 0 end as ebay_enabled_flag,\n",
    "    case when (length(actions) - 94) <= 0 then 0\n",
    "       else round((length(actions) - 94)/12)\n",
    "       end as merchant_ct,\n",
    "    count(distinct(consumer_uuid)) as consumer_ct\n",
    "    from eligibility_pop,\n",
    "    where holdout_group != 'bau_control'\n",
    "    group by 1,2,3,4,5\n",
    "                    ''' )\n",
    "#all customer risk tiers have access to amazon and ebay\n",
    "print(confirm_bau_control)"
   ]
  },
  {
   "cell_type": "code",
   "execution_count": 0,
   "metadata": {
    "application/vnd.databricks.v1+cell": {
     "cellMetadata": {
      "byteLimit": 2048000,
      "rowLimit": 10000
     },
     "inputWidgets": {},
     "nuid": "c9254e11-7048-4431-b501-882f06ac8367",
     "showTitle": false,
     "tableResultSettingsMap": {},
     "title": ""
    }
   },
   "outputs": [],
   "source": [
    "#analyze the trust population, confirm it's only impacting GB new users\n",
    "#create driver\n",
    "trust_base = '''CREATE or replace temp table trusted_layer_validation AS (SELECT\n",
    "        a.*, to_number(substring(MD5(concat(a.CONSUMER_ID,'oon_expansion')),1,6),'XXXXXX')/to_number('ffffff','XXXXXX')::decimal(10,2) as test_key,\n",
    "        case when merchant_id in ('400538723', '400570637', '400575272', '400568202', '400504709', '400535118', '400551784', '400527714', '400515891', '400546925', '400527604', '400562359', '400474538', '400571508', '400515894', '400569331', '400572942', '400547364', '400474394', '400527759', '400575150', '400562345', '400570636', '400527737', '400527047', '400474401', '400475455', '400527639', '400527593', '400574444', '400461110', '400488351', '400507556', '400527756', '400569337', '400527058', '400570624', '400510052', '400510042', '400515896', '400575275', '400527704', '400514646', '400527833', '400522690', '400527601', '400562315', '400579004', '400527066', '400507557', '400509583', '400507558', '400507559',   '400517492') then 1 else 0 end as gb_sup_flag,\n",
    "        CASE \n",
    "            WHEN c.first_order_date IS NULL THEN 'new'\n",
    "            WHEN DATEDIFF('day', c.first_order_date, a.par_process_date) <= 14 THEN 'new'\n",
    "            ELSE 'existing'\n",
    "        END as customer_tenure\n",
    "        FROM  AP_CUR_R_FEATSCI.curated_feature_science_red.RAW_C_E_FC_DECISION_RECORD_RULES_RT__JOBYG_DSL3_SV a\n",
    "        LEFT JOIN AP_RAW_GREEN.GREEN.D_CONSUMER c\n",
    "        ON a.CONSUMER_ID = c.uuid\n",
    "        WHERE a.checkpoint in ('CHECKOUT_CONFIRM')\n",
    "        -- AND ((is_rejected = 'True' and is_in_treatment ilike 'True'))\n",
    "        AND a.par_process_date >= '2025-04-09'\n",
    "        and a.par_Region = 'GB'); ''';                  \n",
    "\n",
    "conn.execute(trust_base)\n",
    "\n"
   ]
  },
  {
   "cell_type": "code",
   "execution_count": 0,
   "metadata": {
    "application/vnd.databricks.v1+cell": {
     "cellMetadata": {
      "byteLimit": 2048000,
      "rowLimit": 10000
     },
     "inputWidgets": {},
     "nuid": "59af9fc6-67de-409e-a6d9-b4fb693ccef3",
     "showTitle": false,
     "tableResultSettingsMap": {},
     "title": ""
    }
   },
   "outputs": [],
   "source": [
    "\n",
    "earliest_ts = '2025-04-09 19:03:38.711'\n",
    "tl_pop_validation = conn.download(f'''select par_region, \n",
    "                        customer_tenure,\n",
    "                        gb_sup_flag,\n",
    "                        count(distinct  consumer_id) as total_consumer_Ct,\n",
    "                        count(distinct(case when rule_id = 'gb_trusted_layer_v_eligibility_expansion' and actions != '[]' then consumer_id  end)) as impacted_consumer_ct,\n",
    "                        count(distinct(case when rule_id = 'gb_trusted_layer_v_eligibility_expansion' and actions != '[]' then order_token end)) as impacted_token_ct\n",
    "                        from trusted_layer_validation\n",
    "\n",
    "                        -- add this filter to ensure event time looks from when smoke test started\n",
    "                        where to_timestamp(event_info_event_time/1000) >= '{earliest_ts}'\n",
    "                        group by 1,2,3\n",
    "                        order by 1,2,3\n",
    "              ''')\n",
    "print(tl_pop_validation) #exclusively GB new user SUP, but what's the specific percentage\n"
   ]
  },
  {
   "cell_type": "code",
   "execution_count": 0,
   "metadata": {
    "application/vnd.databricks.v1+cell": {
     "cellMetadata": {
      "byteLimit": 2048000,
      "rowLimit": 10000
     },
     "inputWidgets": {},
     "nuid": "21692068-c6b8-4827-9e25-f586194cad58",
     "showTitle": false,
     "tableResultSettingsMap": {},
     "title": ""
    }
   },
   "outputs": [],
   "source": [
    "\n",
    "numerator = tl_pop_validation.loc[(tl_pop_validation['customer_tenure'] == 'new') & (tl_pop_validation['gb_sup_flag'] == 1)]['impacted_consumer_ct'].values[0]\n",
    "denominator = tl_pop_validation.loc[(tl_pop_validation['customer_tenure'] == 'new') & (tl_pop_validation['gb_sup_flag'] == 1)]['total_consumer_ct'].values[0]\n",
    "\n",
    "print(f'impacted consumer count is {round(numerator/denominator,3)}')\n",
    "\n",
    "#10% split is looking valid "
   ]
  },
  {
   "cell_type": "code",
   "execution_count": 0,
   "metadata": {
    "application/vnd.databricks.v1+cell": {
     "cellMetadata": {
      "byteLimit": 2048000,
      "rowLimit": 10000
     },
     "inputWidgets": {},
     "nuid": "1a017d1d-4926-4280-95a9-b4f9dd8a3e40",
     "showTitle": false,
     "tableResultSettingsMap": {},
     "title": ""
    }
   },
   "outputs": [],
   "source": [
    "impacted_customers = conn.download(f'''select test_key, consumer_id, to_timestamp(event_info_event_time/1000) as time from trusted_layer_validation where rule_id = 'gb_trusted_layer_v_eligibility_expansion' and actions != '[]'\n",
    "and to_timestamp(event_info_event_time/1000) >= '{earliest_ts}' ''')\n",
    "\n",
    "print(impacted_customers) # all customers have >= .9"
   ]
  },
  {
   "cell_type": "code",
   "execution_count": 0,
   "metadata": {
    "application/vnd.databricks.v1+cell": {
     "cellMetadata": {
      "byteLimit": 2048000,
      "rowLimit": 10000
     },
     "inputWidgets": {},
     "nuid": "0f596dd1-8cf8-4198-98f0-77efd5de5b74",
     "showTitle": false,
     "tableResultSettingsMap": {},
     "title": ""
    }
   },
   "outputs": [],
   "source": [
    "min_test_key = impacted_customers['test_key'].min()\n",
    "print(f'min test_key is {min_test_key}')"
   ]
  },
  {
   "cell_type": "code",
   "execution_count": 0,
   "metadata": {
    "application/vnd.databricks.v1+cell": {
     "cellMetadata": {
      "byteLimit": 2048000,
      "rowLimit": 10000
     },
     "inputWidgets": {},
     "nuid": "f6a22805-3cb4-4c2e-9291-ffc4fe91d069",
     "showTitle": false,
     "tableResultSettingsMap": {},
     "title": ""
    }
   },
   "outputs": [],
   "source": [
    "trust_pop = set(impacted_customers['consumer_id'])\n",
    "\n",
    "eligibility_pop = conn.download('''select consumer_uuid, holdout_group, test_key from base_events where holdout_group = 'expanded eligibility, less trxn control' ''')"
   ]
  },
  {
   "cell_type": "code",
   "execution_count": 0,
   "metadata": {
    "application/vnd.databricks.v1+cell": {
     "cellMetadata": {
      "byteLimit": 2048000,
      "rowLimit": 10000
     },
     "inputWidgets": {},
     "nuid": "02bacd83-c403-4b8e-95b0-9d8e2db787e9",
     "showTitle": false,
     "tableResultSettingsMap": {},
     "title": ""
    }
   },
   "outputs": [],
   "source": [
    "ct = 0\n",
    "for consumer_uuid in trust_pop:\n",
    "    # print(consumer_uuid, ct)\n",
    "    if consumer_uuid in set(eligibility_pop['consumer_uuid']):\n",
    "        ct += 1\n",
    "    if consumer_uuid not in set(eligibility_pop['consumer_uuid']):\n",
    "        print(consumer_uuid)\n",
    "\n",
    "if ct == len(trust_pop):\n",
    "    print(f'all trust customers are in the appropriate eligibility test group')"
   ]
  },
  {
   "cell_type": "code",
   "execution_count": 0,
   "metadata": {
    "application/vnd.databricks.v1+cell": {
     "cellMetadata": {},
     "inputWidgets": {},
     "nuid": "b16b7bdc-e669-4016-930d-8cba7516dc0d",
     "showTitle": false,
     "tableResultSettingsMap": {},
     "title": ""
    }
   },
   "outputs": [],
   "source": []
  }
 ],
 "metadata": {
  "application/vnd.databricks.v1+notebook": {
   "computePreferences": null,
   "dashboards": [],
   "environmentMetadata": {
    "base_environment": "",
    "environment_version": "2"
   },
   "inputWidgetPreferences": null,
   "language": "python",
   "notebookMetadata": {
    "pythonIndentUnit": 4
   },
   "notebookName": "Implementation=Execution Analysis",
   "widgets": {}
  },
  "language_info": {
   "name": "python"
  }
 },
 "nbformat": 4,
 "nbformat_minor": 0
}
