{
 "cells": [
  {
   "cell_type": "markdown",
   "metadata": {
    "application/vnd.databricks.v1+cell": {
     "cellMetadata": {},
     "inputWidgets": {},
     "nuid": "559ec5af-7e30-46c7-8607-4211e3ba6844",
     "showTitle": false,
     "tableResultSettingsMap": {},
     "title": ""
    }
   },
   "source": [
    "\n",
    "#UK Single Use Product (SUP): Eligibility Expansion Impact Analysis\n",
    "## AUthor Joby George (jobyg)\n",
    "## 4/10/2025\n",
    "\n",
    "## Context: Current Operating SUP Eligibility Strategy\n",
    "- Customer Risk Segmentation:\n",
    "  - **Low Risk**: ~90% of customer base\n",
    "    - Full access to all SUP merchants (including Amazon/eBay)\n",
    "  \n",
    "  - **High Risk**: ~10% of customer base\n",
    "    - Limited SUP merchant access\n",
    "    - Cannot access Amazon/eBay\n",
    "\n",
    "## Experiment\n",
    "\n",
    "## Test Design (Launch: April 16, 2025)\n",
    "### Population Split\n",
    "1. **Control Group** (10% of all customers)\n",
    "   - Maintains current risk-based restrictions\n",
    "   - High risk users continue to have limited merchant access\n",
    "\n",
    "2. **Treatment Group A** (80% of all customers)\n",
    "   - All customers get full merchant access\n",
    "   - Standard transaction controls\n",
    "\n",
    "3. **Treatment Group B** (10% of all customers)\n",
    "   - All customers get full merchant access\n",
    "   - Enhanced transaction privileges\n",
    "\n",
    "## Smoke Test (Launch April 9th, 2025)\n",
    "\n",
    "On April 9th, a proof of concept was done to confirm the test roll-out would work as intended. The Smoke-Test kept 80% of customers as BAU, with 20% given full merchant access. Out of the enabled 20%, 10% of them were also given trusted layer priviledges.\n",
    "\n"
   ]
  },
  {
   "cell_type": "markdown",
   "metadata": {
    "application/vnd.databricks.v1+cell": {
     "cellMetadata": {},
     "inputWidgets": {},
     "nuid": "8c090e37-3127-4dec-8836-7fc91e1656d5",
     "showTitle": false,
     "tableResultSettingsMap": {},
     "title": ""
    }
   },
   "source": [
    "# Script Goals:\n",
    "\n",
    "This script looks to measure the experiment effects on consumer purchasing behavior looking at the following:\n",
    "\n",
    "## 1. Core Impact Analysis - High Risk Population\n",
    "### Primary Metrics\n",
    "- **Attempt Rate**\n",
    "  - High Risk Control vs.\n",
    "  - High Risk Expanded Eligibility vs.\n",
    "  - High Risk Expanded Eligibility + Reduced Controls\n",
    "  \n",
    "- **Fraud Decline Rate**\n",
    "  - Split by population groups above\n",
    "  - Control for existing fraud patterns\n",
    "  \n",
    "- **GPV (Gross Payment Volume)**\n",
    "  - Total volume\n",
    "  - Average transaction size\n",
    "  - Transaction frequency\n",
    "  \n",
    "- **NAC (New Active Customer) Rate**\n",
    "  - First-time SUP usage\n",
    "  - Activation patterns by group\n",
    "\n",
    "### Control Variables\n",
    "- Existing trusted layer assignments\n",
    "\n",
    "## 2. Transaction Control Validation\n",
    "### Technical Verification\n",
    "- Confirm no overlap between:\n",
    "  - Reduced transaction control group\n",
    "  - GB trusted layer rule assignments\n",
    "  \n",
    "### Population Segmentation\n",
    "- Create clean comparison groups:\n",
    "  1. Base: High Risk Control\n",
    "  2. Treatment 1: High Risk + Expanded Eligibility (only)\n",
    "  3. Treatment 2: High Risk + Expanded Eligibility + Reduced Controls\n",
    "     - Exclude any GB trusted layer assignments\n",
    "\n",
    "## 3. Risk Tier Analysis for Reduced Controls\n",
    "### Comparison Framework\n",
    "Split Treatment 2 (Expanded + Reduced Controls) by:\n",
    "- Low Risk\n",
    "  - With existing trusted layer\n",
    "  - Without existing trusted layer\n",
    "- High Risk\n",
    "  - With existing trusted layer\n",
    "  - Without existing trusted layer\n",
    "\n",
    "### Metrics by Segment\n",
    "- Attempt success rate\n",
    "- Transaction volume\n",
    "- Fraud rates (takes time to mature)\n",
    "- Decline rates"
   ]
  },
  {
   "cell_type": "markdown",
   "metadata": {
    "application/vnd.databricks.v1+cell": {
     "cellMetadata": {},
     "inputWidgets": {},
     "nuid": "968a0c09-8c7a-45db-813a-039c00009dc8",
     "showTitle": false,
     "tableResultSettingsMap": {},
     "title": ""
    }
   },
   "source": [
    "\n",
    "#Prepping the data to compare impact of expanded merchant eligibility"
   ]
  },
  {
   "cell_type": "code",
   "execution_count": 0,
   "metadata": {
    "application/vnd.databricks.v1+cell": {
     "cellMetadata": {
      "byteLimit": 2048000,
      "rowLimit": 10000
     },
     "inputWidgets": {},
     "nuid": "57dbaa66-a4f5-4b75-98fd-f45ca291af4d",
     "showTitle": false,
     "tableResultSettingsMap": {},
     "title": ""
    }
   },
   "outputs": [],
   "source": [
    "#set up\n",
    "\n",
    "import json\n",
    "import matplotlib.pyplot as plt\n",
    "import seaborn as sns\n",
    "from datetime import datetime, timedelta\n",
    "import pandas as pd\n",
    "import numpy as np\n",
    "\n",
    "# from utils import policy_dict, policy_data_dict, find_non_zero_riskweight_rules, find_zero_riskweight_rules\n",
    "from pandasql import sqldf\n",
    "from tqdm import tqdm\n",
    "import logging\n",
    "\n",
    "# Standard data manipulation and visualization packages\n",
    "import pandas as pd\n",
    "import numpy as np\n",
    "\n",
    "\n",
    "# Display settings\n",
    "pd.set_option('display.max_columns', None)  # Show all columns\n",
    "pd.set_option('display.max_rows', 100)      # Show 100 rows max\n",
    "pd.set_option('display.width', None)        # Auto-detect display width\n",
    "pd.set_option('display.float_format', lambda x: '%.3f' % x)  # Format floats to 3 decimal places\n",
    "\n",
    "# Plotting settings\n",
    "plt.style.use('seaborn')\n",
    "sns.set_palette(\"husl\")\n",
    "plt.rcParams['figure.figsize'] = [12, 6]  # Set default figure size\n",
    "\n",
    "\n",
    "from pysnowflake import Session\n",
    "run_query = lambda query: sqldf(query, globals())\n",
    "\n",
    "\n"
   ]
  },
  {
   "cell_type": "code",
   "execution_count": 0,
   "metadata": {
    "application/vnd.databricks.v1+cell": {
     "cellMetadata": {
      "byteLimit": 2048000,
      "rowLimit": 10000
     },
     "inputWidgets": {},
     "nuid": "d8e8f68d-a688-40ea-800b-1640bf37ec02",
     "showTitle": false,
     "tableResultSettingsMap": {},
     "title": ""
    }
   },
   "outputs": [],
   "source": [
    "user_name = 'jobyg' #replace it with your ldap name\n",
    "sess = Session(\n",
    "   connection_override_args={\n",
    "       'autocommit': True,\n",
    "       'authenticator': 'externalbrowser',\n",
    "       'account': 'square',\n",
    "       'database': f'PERSONAL_{user_name.upper()}',\n",
    "       'user': f'{user_name}@squareup.com'\n",
    "   }\n",
    "   \n",
    ")\n",
    "conn = sess.open()\n",
    "\n"
   ]
  },
  {
   "cell_type": "code",
   "execution_count": 0,
   "metadata": {
    "application/vnd.databricks.v1+cell": {
     "cellMetadata": {
      "byteLimit": 2048000,
      "rowLimit": 10000
     },
     "inputWidgets": {},
     "nuid": "b2e5a607-cd34-46d5-b4fd-d15011aac5ab",
     "showTitle": false,
     "tableResultSettingsMap": {},
     "title": ""
    }
   },
   "outputs": [],
   "source": [
    "conn.execute('use warehouse ADHOC__LARGE')\n",
    "conn.execute('use database AP_CUR_FRDRISK_G')\n",
    "conn.execute('use schema public')\n",
    "rt_start_time =  (datetime.now().today()- timedelta(days=2)).strftime(\"%Y-%m-%d\")\n",
    "\n",
    "print(rt_start_time) "
   ]
  },
  {
   "cell_type": "code",
   "execution_count": 0,
   "metadata": {
    "application/vnd.databricks.v1+cell": {
     "cellMetadata": {
      "byteLimit": 2048000,
      "rowLimit": 10000
     },
     "inputWidgets": {},
     "nuid": "041231d4-5006-41ab-97a5-e2d0c5db35aa",
     "showTitle": false,
     "tableResultSettingsMap": {},
     "title": ""
    }
   },
   "outputs": [],
   "source": [
    "historical_start_time = '2025-04-09 19:03:38.711' \n",
    "#this is the time period we'll loo at for the analysis\n",
    "rt_start_time =  (datetime.now().today()- timedelta(days=2)).strftime(\"%Y-%m-%d\")\n",
    "\n",
    "historical_table_name = f'ap_cur_r_featsci.curated_feature_science_red.tbl_raw_r_e_rekarma_rl_exec_rslt_rules__{user_name}_dsl3_sv'\n",
    "historical_time_col = 'event_info_event_time'\n",
    "\n",
    "rt_table_name = f'ap_cur_r_featsci.curated_feature_science_red.raw_r_e_rekarma_rl_exec_rslt_rules_rt__{user_name}_dsl3_sv'\n",
    "rt_time_col = 'event_time'\n",
    "\n",
    "rule = 'gb_fraud_online_sup_eligibility_model_risk_filter_elgibility_experiment'\n",
    "##pull from the historical table first\n",
    "historical_q = f''' create or replace temp table SUP_risk_filter_events AS (\n",
    "SELECT \n",
    "    a.order_token,\n",
    "    a.consumer_uuid,\n",
    "    a.par_region, \n",
    "    a.par_process_date, \n",
    "    a.checkpoint,\n",
    "    a.{historical_time_col} as event_time,\n",
    "    a.rule_id, \n",
    "    a.rule_name,\n",
    "    a.rule_external_id,\n",
    "    a.sub_rules, \n",
    "    a.risk_score,\n",
    "    a.rule_result,\n",
    "    a.is_rejected,\n",
    "    a.is_in_treatment,\n",
    "    a.status,\n",
    "    a.extra,\n",
    "    a.rule_category,\n",
    "    a.status_detail,\n",
    "    a.actions,\n",
    "    a.rule_execution_version,\n",
    "    parse_json((extra))['transient_features']['holdout_group'] as holdout_group,  \n",
    "    parse_json((extra))['transient_features']['pre_expansion_risk_tier'] as         pre_expansion_Risk_Tier,\n",
    "    parse_json((extra))['transient_features']['test_key'] as test_key,\n",
    "    c.first_order_date,\n",
    "    CASE \n",
    "        WHEN c.first_order_date IS NULL THEN 'new'\n",
    "        WHEN DATEDIFF('day', c.first_order_date, a.par_process_date) < 15 THEN 'new'\n",
    "        ELSE 'existing'\n",
    "    END as customer_tenure\n",
    "FROM {historical_table_name} a\n",
    "LEFT JOIN AP_RAW_GREEN.GREEN.D_CONSUMER c\n",
    "    ON a.consumer_uuid = c.uuid\n",
    "WHERE a.{historical_time_col} <= '{rt_start_time}'\n",
    "and a.{historical_time_col} >= '{historical_start_time}'\n",
    "and customer_tenure = 'new'\n",
    "and a.rule_id = '{rule}');'''\n",
    "conn.execute(historical_q)\n",
    "#now append rt values to this\n",
    "\n",
    "insert_query = f'''create or replace temp table SUP_risk_filter_events_insert AS (\n",
    "SELECT \n",
    "    a.order_token,\n",
    "    a.consumer_uuid,\n",
    "    a.par_region, \n",
    "    a.par_process_date, \n",
    "    a.checkpoint,\n",
    "    a.{rt_time_col},\n",
    "    a.rule_id, \n",
    "    a.rule_name,\n",
    "    a.rule_external_id,\n",
    "    a.sub_rules, \n",
    "    a.risk_score,\n",
    "    a.rule_result,\n",
    "    a.is_rejected,\n",
    "    a.is_in_treatment,\n",
    "    a.status,\n",
    "    a.extra,\n",
    "    a.rule_category,\n",
    "    a.status_detail,\n",
    "    a.actions,\n",
    "    a.rule_execution_version,\n",
    "    parse_json((extra))['transient_features']['holdout_group'] as holdout_group,  \n",
    "    parse_json((extra))['transient_features']['pre_expansion_risk_tier'] as         pre_expansion_Risk_Tier,\n",
    "    parse_json((extra))['transient_features']['test_key'] as test_key,\n",
    "    c.first_order_date,\n",
    "    CASE \n",
    "        WHEN c.first_order_date IS NULL THEN 'new'\n",
    "        WHEN DATEDIFF('day', c.first_order_date, a.par_process_date) < 15 THEN 'new'\n",
    "        ELSE 'existing'\n",
    "    END as customer_tenure\n",
    "FROM {rt_table_name} a\n",
    "LEFT JOIN AP_RAW_GREEN.GREEN.D_CONSUMER c\n",
    "    ON a.consumer_uuid = c.uuid\n",
    "WHERE a.{rt_time_col} >= '{rt_start_time}'\n",
    "and customer_tenure = 'new'\n",
    "and a.rule_id = '{rule}'); '''\n",
    "\n",
    "conn.execute(insert_query)\n",
    "# b= conn.download('select * from SUP_risk_filter_events_v2 limit 5')\n",
    "# c= conn.download('select * from SUP_risk_filter_events_insert limit 5')\n",
    "# print(b.columns)\n",
    "# print(c.columns)\n",
    "\n",
    "conn.execute(f'insert into SUP_risk_filter_events select * from SUP_risk_filter_events_insert')\n"
   ]
  },
  {
   "cell_type": "code",
   "execution_count": 0,
   "metadata": {
    "application/vnd.databricks.v1+cell": {
     "cellMetadata": {
      "byteLimit": 2048000,
      "rowLimit": 10000
     },
     "inputWidgets": {},
     "nuid": "7c151756-7834-489e-b13f-bd482d9184f3",
     "showTitle": false,
     "tableResultSettingsMap": {},
     "title": ""
    }
   },
   "outputs": [],
   "source": [
    "\n",
    "order_token_driver = f'''create or replace temp table SUP_attempts AS (\n",
    "    SELECT \n",
    "        a.order_token\n",
    "        ,a.consumer_id\n",
    "        ,a.checkout_time\n",
    "        ,a.par_region\n",
    "        ,a.bp_is_sup\n",
    "        ,a.consumer_is_First_order\n",
    "        ,a.days_since_First_order_date\n",
    "        ,a.in_flight_order_merchant_name\n",
    "        ,a.in_flight_order_merchant_id\n",
    "        ,a.trust as featuremart_trust\n",
    "        ,case when d.order_token is not null then 1 else 0 end as original_gb_trust_layer\n",
    "        ,case when e.order_token is not null then 1 else 0 end as gb_trust_expansion\n",
    "        ,a.in_flight_order_amount\n",
    "        ,a.order_amount_local\n",
    "        ,a.whitepages_identity_check_score\n",
    "        ,a.bp_c_batch_consumer_batch_model_v1\n",
    "        ,a.MODEL_ONLINE_OD_ABUSIVE_GLOBAL_APRIL_2024_SCORE\n",
    "        ,a.MODEL_ONLINE_OD_PAYBACK_NON_US_APRIL_2024_SCORE\n",
    "        ,a.MODEL_ONLINE_OD_GLOBAL_PAYBACK_SUP_MODEL_AUGUST_2023_SCORE\n",
    "        ,c.holdout_group\n",
    "        ,min_daily_risk_tier\n",
    "        ,max_daily_risk_tier\n",
    "        ,case when b.min_daily_risk_tier = 0 then 'L' else 'H' end as min_daily_risk_tier_fixed\n",
    "        ,case when b.max_daily_risk_tier = 0 then 'L' else 'H' end as max_daily_risk_tier_fixed\n",
    "        ,case when bp_c_batch_consumer_batch_model_v1 <= 780 then 'L' else 'H' end as order_risk_tier\n",
    "        ,case when b.min_daily_risk_tier = b.max_daily_risk_tier then 1 else 0 end as daily_risk_tier_was_consistent\n",
    "        from  ap_cur_r_frdrisk.curated_fraud_risk_red.unified_feature_datamart_base__{user_name}_dsl3_sv a\n",
    "        left join eligibility_driver_cust_day_deduped b\n",
    "        on a.consumer_id = b.consumer_uuid\n",
    "        and a.par_process_Date =b.par_process_date\n",
    "        left join holdouts_deduped c\n",
    "        on a.consumer_id = c.consumer_uuid\n",
    "        left join gb_trusted_layer_v2 d\n",
    "        on a.order_token = d.order_token\n",
    "        left join eligibility_trust_layer e\n",
    "        on a.order_token = e.order_token\n",
    "        where a.par_Region = 'GB'\n",
    "        and a.bp_is_sup = 1\n",
    "        and coalesce(a.days_since_First_order_date,0) <= 14\n",
    "        and dedup=1\n",
    "        and checkout_time >= '{historical_start_time}'        \n",
    "        );\n",
    "'''\n",
    "conn.execute(order_token_driver)\n",
    "\n"
   ]
  },
  {
   "cell_type": "code",
   "execution_count": 0,
   "metadata": {
    "application/vnd.databricks.v1+cell": {
     "cellMetadata": {
      "byteLimit": 2048000,
      "rowLimit": 10000
     },
     "inputWidgets": {},
     "nuid": "d36a1cb1-d97d-4a08-848e-39bf8698e22a",
     "showTitle": false,
     "tableResultSettingsMap": {},
     "title": ""
    }
   },
   "outputs": [],
   "source": [
    "def create_eligibiltiy_drivers_for_analysis(user_name, conn=conn):\n",
    "    \"\"\"\n",
    "    Create drivers for data analysis based on user data tables.\n",
    "\n",
    "    This function generates analysis drivers using either real-time or historical tables\n",
    "    depending on the specified parameters.\n",
    "\n",
    "    Parameters\n",
    "    ----------\n",
    "    start_time : datetime\n",
    "        The starting time point for the analysis.\n",
    "    \n",
    "    user_name : str\n",
    "        Username used to specify the relevant user data tables for analysis.\n",
    "    \n",
    "    rt : bool\n",
    "        Real-time flag:\n",
    "        - If True, uses real-time tables for analysis\n",
    "        - If False, uses historical tables for analysis\n",
    "    \n",
    "    conn : connection object, optional\n",
    "        Database connection object. Defaults to global 'conn' variable.\n",
    "\n",
    "    Returns\n",
    "    ----------\n",
    "    Temporary SQL tables  are used for further analysis, for a given rule, using rt source tables if specified \n",
    "    \"\"\"\n",
    "    #lets first start with the historical records for the rule and then append the rt\n",
    "    historical_start_time = '2025-04-09 19:03:38.711' \n",
    "    #this is the time period we'll loo at for the analysis\n",
    "    rt_start_time =  (datetime.now().today()- timedelta(days=2)).strftime(\"%Y-%m-%d\")\n",
    "    historical_table_name = f'ap_cur_r_featsci.curated_feature_science_red.tbl_raw_r_e_rekarma_rl_exec_rslt_rules__{user_name}_dsl3_sv'\n",
    "    historical_time_col = 'event_info_event_time'\n",
    "\n",
    "    rt_table_name = f'ap_cur_r_featsci.curated_feature_science_red.raw_r_e_rekarma_rl_exec_rslt_rules_rt__{user_name}_dsl3_sv'\n",
    "    rt_time_col = 'event_time'\n",
    "    rule = 'gb_fraud_online_sup_eligibility_model_risk_filter_elgibility_experiment'\n",
    "\n",
    "    ##pull from the historical table first\n",
    "    print('grabbing all historical SUP eligibility events')\n",
    "    historical_q = f''' create or replace temp table SUP_risk_filter_events AS (\n",
    "SELECT \n",
    "    a.order_token,\n",
    "    a.consumer_uuid,\n",
    "    a.par_region, \n",
    "    a.par_process_date, \n",
    "    a.checkpoint,\n",
    "    a.{historical_time_col} as event_time,\n",
    "    a.rule_id, \n",
    "    a.rule_name,\n",
    "    a.rule_external_id,\n",
    "    a.sub_rules, \n",
    "    a.risk_score,\n",
    "    a.rule_result,\n",
    "    a.is_rejected,\n",
    "    a.is_in_treatment,\n",
    "    a.status,\n",
    "    a.extra,\n",
    "    a.rule_category,\n",
    "    a.status_detail,\n",
    "    a.actions,\n",
    "    a.rule_execution_version,\n",
    "    parse_json((extra))['transient_features']['holdout_group'] as holdout_group,  \n",
    "    parse_json((extra))['transient_features']['pre_expansion_risk_tier'] as         pre_expansion_Risk_Tier,\n",
    "    parse_json((extra))['transient_features']['test_key'] as test_key,\n",
    "    c.first_order_date,\n",
    "    CASE \n",
    "        WHEN c.first_order_date IS NULL THEN 'new'\n",
    "        WHEN DATEDIFF('day', c.first_order_date, a.par_process_date) < 15 THEN 'new'\n",
    "        ELSE 'existing'\n",
    "    END as customer_tenure\n",
    "FROM {historical_table_name} a\n",
    "LEFT JOIN AP_RAW_GREEN.GREEN.D_CONSUMER c\n",
    "    ON a.consumer_uuid = c.uuid\n",
    "WHERE a.{historical_time_col} <= '{rt_start_time}'\n",
    "and a.{historical_time_col} >= '{historical_start_time}'\n",
    "and customer_tenure = 'new'\n",
    "and a.rule_id = '{rule}');'''\n",
    "    conn.execute(historical_q)\n",
    "\n",
    "#now append rt values to this\n",
    "\n",
    "    insert_query = f'''create or replace temp table SUP_risk_filter_events_insert AS (\n",
    "SELECT \n",
    "    a.order_token,\n",
    "    a.consumer_uuid,\n",
    "    a.par_region, \n",
    "    a.par_process_date, \n",
    "    a.checkpoint,\n",
    "    a.{rt_time_col},\n",
    "    a.rule_id, \n",
    "    a.rule_name,\n",
    "    a.rule_external_id,\n",
    "    a.sub_rules, \n",
    "    a.risk_score,\n",
    "    a.rule_result,\n",
    "    a.is_rejected,\n",
    "    a.is_in_treatment,\n",
    "    a.status,\n",
    "    a.extra,\n",
    "    a.rule_category,\n",
    "    a.status_detail,\n",
    "    a.actions,\n",
    "    a.rule_execution_version,\n",
    "    parse_json((extra))['transient_features']['holdout_group'] as holdout_group,  \n",
    "    parse_json((extra))['transient_features']['pre_expansion_risk_tier'] as         pre_expansion_Risk_Tier,\n",
    "    parse_json((extra))['transient_features']['test_key'] as test_key,\n",
    "    c.first_order_date,\n",
    "    CASE \n",
    "        WHEN c.first_order_date IS NULL THEN 'new'\n",
    "        WHEN DATEDIFF('day', c.first_order_date, a.par_process_date) < 15 THEN 'new'\n",
    "        ELSE 'existing'\n",
    "    END as customer_tenure\n",
    "FROM {rt_table_name} a\n",
    "LEFT JOIN AP_RAW_GREEN.GREEN.D_CONSUMER c\n",
    "    ON a.consumer_uuid = c.uuid\n",
    "WHERE a.{rt_time_col} >= '{rt_start_time}'\n",
    "and customer_tenure = 'new'\n",
    "and a.rule_id = '{rule}'); '''\n",
    "\n",
    "    conn.execute(insert_query)\n",
    "    print('appending RT SUP eligibility events into historical table')\n",
    "    \n",
    "    conn.execute(f'insert into SUP_risk_filter_events select * from SUP_risk_filter_events_insert')\n",
    "\n",
    "\n",
    "    ## create accompanying driver tables:\n",
    "    eligbility_driver_cust_day_level_q = conn.execute(f'''\n",
    "   create or replace temp table eligibility_driver_cust_day_deduped as (select \n",
    "        par_process_date\n",
    "        ,consumer_uuid\n",
    "        ,min(case when pre_expansion_risk_tier = 'L' then 0 \n",
    "                  when pre_expansion_risk_tier = 'H' then 1 end) as min_daily_risk_tier\n",
    "        ,max(case when pre_expansion_risk_tier = 'L' then 0 \n",
    "                  when pre_expansion_risk_tier = 'H' then 1 end) as max_daily_risk_tier\n",
    "        ,max(holdout_group) as holdout_group\n",
    "        from SUP_risk_filter_events\n",
    "        group by 1,2);''')\n",
    "    \n",
    "    holdout_group = conn.execute('create or replace temp table holdouts_deduped as (select distinct consumer_uuid, par_process_date, max(holdout_group) as holdout_group from SUP_risk_filter_events group by 1,2);')\n",
    "\n",
    "    print('grabbing trusted layer events')\n",
    "\n",
    "    trusted_layer_historical = f'''create or replace temp table gb_trusted_layer_v2 as (\n",
    " SELECT order_token, rule_id, EVENT_INFO_EVENT_TIME\n",
    "    FROM  AP_CUR_R_FEATSCI.curated_feature_science_red.TBL_RAW_C_E_FC_DECISION_RECORD_RULES__{user_name}_DSL3_SV\n",
    "    WHERE checkpoint in ('CHECKOUT_CONFIRM')\n",
    "    AND (actions!='[]')\n",
    "    AND to_timestamp(EVENT_INFO_EVENT_TIME/1000) <= '{rt_start_time}'\n",
    "    AND to_timestamp(EVENT_INFO_EVENT_TIME/1000) > '{historical_start_time}'\n",
    "    and RULE_ID in ('gb_trusted_layer_v2')\n",
    "    and par_region in ('GB'));'''\n",
    "    conn.execute(trusted_layer_historical)\n",
    "    trusted_layer_rt = f'''create or replace temp table gb_trusted_layer_v2_insert as ( \n",
    " SELECT order_token, rule_id, EVENT_INFO_EVENT_TIME\n",
    "    FROM  AP_CUR_R_FEATSCI.curated_feature_science_red.RAW_C_E_FC_DECISION_RECORD_RULES_RT__{user_name}_DSL3_SV\n",
    "    WHERE checkpoint in ('CHECKOUT_CONFIRM')\n",
    "    AND (actions!='[]')\n",
    "    AND par_process_date >= '{rt_start_time}'\n",
    "    and RULE_ID in ('gb_trusted_layer_v2')\n",
    "    and par_region in ('GB'));'''\n",
    "    conn.execute(trusted_layer_rt)\n",
    "\n",
    "    conn.execute('insert into gb_trusted_layer_v2 select * from gb_trusted_layer_v2_insert')\n",
    "\n",
    "\n",
    "    trusted_layer_eligibility = f'''create or replace temp table eligibility_trust_layer as (\n",
    " SELECT order_token, rule_id, EVENT_INFO_EVENT_TIME\n",
    "    FROM  AP_CUR_R_FEATSCI.curated_feature_science_red.TBL_RAW_C_E_FC_DECISION_RECORD_RULES__{user_name}_DSL3_SV\n",
    "    WHERE checkpoint in ('CHECKOUT_CONFIRM')\n",
    "    AND (actions!='[]')\n",
    "    AND to_timestamp(EVENT_INFO_EVENT_TIME/1000) <= '{rt_start_time}'\n",
    "    AND to_timestamp(EVENT_INFO_EVENT_TIME/1000) > '{historical_start_time}'\n",
    "    and RULE_ID in ('gb_trusted_layer_v_eligibility_expansion')\n",
    "    and par_region in ('GB'));'''\n",
    "    conn.execute(trusted_layer_eligibility)\n",
    "\n",
    "    trusted_layer_eligibility_rt = f'''create or replace temp table eligibility_trust_layer_insert as (\n",
    "    SELECT order_token, rule_id, EVENT_INFO_EVENT_TIME\n",
    "    FROM  AP_CUR_R_FEATSCI.curated_feature_science_red.RAW_C_E_FC_DECISION_RECORD_RULES_RT__{user_name}_DSL3_SV\n",
    "    WHERE checkpoint in ('CHECKOUT_CONFIRM')\n",
    "    AND (actions!='[]')\n",
    "    AND par_process_date >= '{rt_start_time}'\n",
    "    and RULE_ID in ('gb_trusted_layer_v_eligibility_expansion')\n",
    "    and par_region in ('GB'));'''\n",
    "    conn.execute(trusted_layer_eligibility_rt)\n",
    "\n",
    "    conn.execute('insert into eligibility_trust_layer select * from eligibility_trust_layer_insert')\n",
    "\n",
    "    decline_flag_historical = f'''create or replace temp table decline_flag_historical as (\n",
    " SELECT order_token, rule_id, EVENT_INFO_EVENT_TIME\n",
    "    FROM  AP_CUR_R_FEATSCI.curated_feature_science_red.TBL_RAW_C_E_FC_DECISION_RECORD_RULES__{user_name}_DSL3_SV\n",
    "    WHERE checkpoint in ('CHECKOUT_CONFIRM')\n",
    "    AND ((is_rejected = 'True' and is_in_treatment ilike 'True'))    \n",
    "    AND to_timestamp(EVENT_INFO_EVENT_TIME/1000) <= '{rt_start_time}'\n",
    "    AND to_timestamp(EVENT_INFO_EVENT_TIME/1000) > '{historical_start_time}'\n",
    "    and par_region in ('GB'));'''\n",
    "    conn.execute(decline_flag_historical)\n",
    "\n",
    "    decline_flag_rt = f'''create or replace temp table decline_flag_rt as (\n",
    "    SELECT order_token, rule_id, EVENT_INFO_EVENT_TIME\n",
    "    FROM  AP_CUR_R_FEATSCI.curated_feature_science_red.RAW_C_E_FC_DECISION_RECORD_RULES_RT__{user_name}_DSL3_SV\n",
    "    WHERE checkpoint in ('CHECKOUT_CONFIRM')\n",
    "    AND ((is_rejected = 'True' and is_in_treatment ilike 'True'))    \n",
    "    AND par_process_date >= '{rt_start_time}'\n",
    "    and par_region in ('GB'));'''\n",
    "    conn.execute(decline_flag_rt)\n",
    "\n",
    "    conn.execute('insert into decline_flag_historical select * from decline_flag_rt')\n",
    "\n",
    "    order_token_driver = f'''create or replace table ap_cur_frdrisk_g.public.{user_name}_GB_SUP_eligibility_expansion_base AS (\n",
    "    SELECT distinct\n",
    "        a.order_token\n",
    "        ,a.consumer_id\n",
    "        ,a.checkout_time\n",
    "        ,a.par_region\n",
    "        ,a.bp_is_sup\n",
    "        ,a.consumer_is_First_order\n",
    "        ,a.days_since_First_order_date\n",
    "        ,a.in_flight_order_merchant_name\n",
    "        ,a.in_flight_order_merchant_id\n",
    "        ,a.trust as featuremart_trust\n",
    "        ,case when d.order_token is not null then 1 else 0 end as original_gb_trust_layer\n",
    "        ,case when e.order_token is not null then 1 else 0 end as gb_trust_expansion\n",
    "        ,a.in_flight_order_amount\n",
    "        ,a.order_amount_local\n",
    "        ,a.whitepages_identity_check_score\n",
    "        ,a.bp_c_batch_consumer_batch_model_v1\n",
    "        ,a.MODEL_ONLINE_OD_ABUSIVE_GLOBAL_APRIL_2024_SCORE\n",
    "        ,a.MODEL_ONLINE_OD_PAYBACK_NON_US_APRIL_2024_SCORE\n",
    "        ,a.MODEL_ONLINE_OD_GLOBAL_PAYBACK_SUP_MODEL_AUGUST_2023_SCORE\n",
    "        ,c.holdout_group\n",
    "        ,min_daily_risk_tier\n",
    "        ,max_daily_risk_tier\n",
    "        ,case when b.min_daily_risk_tier = 0 then 'L' else 'H' end as min_daily_risk_tier_fixed\n",
    "        ,case when b.max_daily_risk_tier = 0 then 'L' else 'H' end as max_daily_risk_tier_fixed\n",
    "        ,case when bp_c_batch_consumer_batch_model_v1 <= 780 then 'L' else 'H' end as order_risk_tier\n",
    "        ,case when b.min_daily_risk_tier = b.max_daily_risk_tier then 1 else 0 end as daily_risk_tier_was_consistent\n",
    "        ,case when f.order_token is not null then 1 else 0 end as fc_decline_Flag\n",
    "        ,g.status\n",
    "        ,g.status_reason\n",
    "        ,h.order_id\n",
    "        ,h.amplitude_id\n",
    "        from  ap_cur_r_frdrisk.curated_fraud_risk_red.unified_feature_datamart_base__{user_name}_dsl3_sv a\n",
    "        left join eligibility_driver_cust_day_deduped b\n",
    "        on a.consumer_id = b.consumer_uuid\n",
    "        and a.par_process_Date =b.par_process_date\n",
    "        left join holdouts_deduped c\n",
    "        on a.consumer_id = c.consumer_uuid\n",
    "        and a.par_process_date = c.par_process_date\n",
    "        left join gb_trusted_layer_v2 d\n",
    "        on a.order_token = d.order_token\n",
    "        left join eligibility_trust_layer e\n",
    "        on a.order_token = e.order_token\n",
    "        left join decline_flag_historical f\n",
    "        on a.order_token = f.order_token\n",
    "        left join ap_raw_green.green.raw_c_e_order g\n",
    "        on a.order_token = g.token\n",
    "        left join (select distinct transaction_token, order_id, amplitude_id from ap_cur_bi_g.curated_analytics_green.cur_c_m_attempt_master) h\n",
    "        on a.order_token = h.TRANSACTION_TOKEN\n",
    "        and a.par_region = h.par_Region\n",
    "        where a.par_Region = 'GB'\n",
    "        and a.bp_is_sup = 1\n",
    "        and coalesce(a.days_since_First_order_date,0) <= 14\n",
    "        and dedup=1\n",
    "        and checkout_time >= '{historical_start_time}'        \n",
    "        );\n",
    "'''\n",
    "    conn.execute(order_token_driver)\n",
    "    \n",
    "    \n",
    "\n"
   ]
  },
  {
   "cell_type": "code",
   "execution_count": 0,
   "metadata": {
    "application/vnd.databricks.v1+cell": {
     "cellMetadata": {
      "byteLimit": 2048000,
      "rowLimit": 10000
     },
     "inputWidgets": {},
     "nuid": "b7587a17-5bc9-45ab-ab8a-39bbbcba9d59",
     "showTitle": false,
     "tableResultSettingsMap": {},
     "title": ""
    }
   },
   "outputs": [],
   "source": [
    "create_eligibiltiy_drivers_for_analysis('jobyg',conn=conn)"
   ]
  },
  {
   "cell_type": "code",
   "execution_count": 0,
   "metadata": {
    "application/vnd.databricks.v1+cell": {
     "cellMetadata": {
      "byteLimit": 2048000,
      "rowLimit": 10000
     },
     "inputWidgets": {},
     "nuid": "4164e23c-7616-4e20-912b-3e4aa3e80769",
     "showTitle": false,
     "tableResultSettingsMap": {},
     "title": ""
    }
   },
   "outputs": [],
   "source": [
    "validation = conn.download(f'select order_token, count(*) as ct from ap_cur_frdrisk_g.public.{user_name}_GB_SUP_eligibility_expansion_base group by 1 order by 2 desc limit 10')\n",
    "validation"
   ]
  },
  {
   "cell_type": "code",
   "execution_count": 0,
   "metadata": {
    "application/vnd.databricks.v1+cell": {
     "cellMetadata": {
      "byteLimit": 2048000,
      "rowLimit": 10000
     },
     "inputWidgets": {},
     "nuid": "43c3a7f1-d8d5-42e4-9161-68377a864e54",
     "showTitle": false,
     "tableResultSettingsMap": {},
     "title": ""
    }
   },
   "outputs": [],
   "source": [
    "start_time = '2025-04-09 19:03:38.711'\n",
    "rule_id = 'gb_fraud_online_sup_eligibility_model_risk_filter_elgibility_experiment'\n",
    "#create tables:\n",
    "param_dict = {0:  \n",
    "        {'rule_id':\"gb_fraud_online_sup_eligibility_model_risk_filter_elgibility_experiment\",\n",
    "        'rt':True},\n",
    "              1:\n",
    "        {'rule_id':\"gb_fraud_online_sup_eligibility_model_risk_filter_elgibility_experiment\",'rt':False},  \n",
    "        2:{'rule_id':None,'rt':True},  \n",
    "        3:{'rule_id':None,'rt':False},          \n",
    "              }\n",
    "for v in param_dict.values():\n",
    "    rule_id = v['rule_id']\n",
    "    rt_bool = v['rt']\n",
    "    create_drivers_for_analysis(start_time=start_time,\n",
    "                            user_name=user_name,\n",
    "                            rule=rule_id,\n",
    "                            rt=rt_bool,\n",
    "                            )"
   ]
  },
  {
   "cell_type": "markdown",
   "metadata": {
    "application/vnd.databricks.v1+cell": {
     "cellMetadata": {},
     "inputWidgets": {},
     "nuid": "ce18034a-9cb0-40f3-94be-96ae15c78d45",
     "showTitle": false,
     "tableResultSettingsMap": {},
     "title": ""
    },
    "jupyter": {
     "outputs_hidden": true
    }
   },
   "source": [
    "\n",
    "#now with all my tables i can create various drivers "
   ]
  },
  {
   "cell_type": "code",
   "execution_count": 0,
   "metadata": {
    "application/vnd.databricks.v1+cell": {
     "cellMetadata": {},
     "inputWidgets": {},
     "nuid": "e6c3c423-aa18-4ad6-a2b1-a8e7aeb25066",
     "showTitle": false,
     "tableResultSettingsMap": {},
     "title": ""
    }
   },
   "outputs": [],
   "source": [
    "if rt:\n",
    "            time_col = 'event_time'\n",
    "            source_table = f'ap_cur_r_featsci.curated_feature_science_red.raw_r_e_rekarma_rl_exec_rslt_rules_rt__{user_name}_dsl3_sv'\n",
    "    output_table = 'SUP_risk_filter_events_rt'\n",
    "        else:\n",
    "            source_table = \n",
    "            output_table = 'SUP_risk_filter_events'\n",
    "            time_col = 'event_info_event_time'\n",
    "        query = f'''\n",
    "    create or replace temp table {output_table} AS (\n",
    "    SELECT \n",
    "        a.*,\n",
    "         parse_json((extra))['transient_features']['holdout_group'] as holdout_group,  \n",
    "    parse_json((extra))['transient_features']['pre_expansion_risk_tier'] as pre_expansion_Risk_Tier,\n",
    "    parse_json((extra))['transient_features']['test_key'] as test_key,\n",
    "        c.first_order_date,\n",
    "        CASE \n",
    "            WHEN c.first_order_date IS NULL THEN 'new'\n",
    "            WHEN DATEDIFF('day', c.first_order_date, a.par_process_date) < 15 THEN 'new'\n",
    "            ELSE 'existing'\n",
    "        END as customer_tenure\n",
    "    FROM {source_table} a\n",
    "    LEFT JOIN AP_RAW_GREEN.GREEN.D_CONSUMER c\n",
    "        ON a.consumer_uuid = c.uuid\n",
    "    WHERE a.{time_col} >= '{start_time}'\n",
    "    and customer_tenure = 'new'\n",
    "    and a.rule_id = '{rule}'\n",
    ")'''"
   ]
  },
  {
   "cell_type": "code",
   "execution_count": 0,
   "metadata": {
    "application/vnd.databricks.v1+cell": {
     "cellMetadata": {
      "byteLimit": 2048000,
      "rowLimit": 10000
     },
     "inputWidgets": {},
     "nuid": "be99ffcd-c24d-453f-82d1-9fcb5da4e8e2",
     "showTitle": false,
     "tableResultSettingsMap": {},
     "title": ""
    }
   },
   "outputs": [],
   "source": [
    "#check if a consumer has multiple risk_tiers per day\n",
    "risk_tier_dupe_check = conn.download('select par_process_Date, consumer_uuid, count(distinct(pre_expansion_risk_tier)) as risk_tier_count from SUP_risk_filter_events group by 1,2 order by 3 desc limit 5')\n",
    "risk_tier_dupe_check ## so a customer can be evaluated as having both low and high risk tiers on the same day, this will be a bit tricky to find the high risk population, but i'll use aggregates to paint a clearer picture\n"
   ]
  },
  {
   "cell_type": "code",
   "execution_count": 0,
   "metadata": {
    "application/vnd.databricks.v1+cell": {
     "cellMetadata": {
      "byteLimit": 2048000,
      "rowLimit": 10000
     },
     "inputWidgets": {},
     "nuid": "82790511-4ade-41f4-a39d-f0ccf22a9b24",
     "showTitle": false,
     "tableResultSettingsMap": {},
     "title": ""
    }
   },
   "outputs": [],
   "source": [
    "eligbility_driver_cust_day_level_q = conn.execute('''\n",
    "   create or replace temp table eligibility_driver_cust_day_deduped as (select \n",
    "        par_process_date\n",
    "        ,consumer_uuid\n",
    "        ,min(case when pre_expansion_risk_tier = 'L' then 0 \n",
    "                  when pre_expansion_risk_tier = 'H' then 1 end) as min_daily_risk_tier\n",
    "        ,max(case when pre_expansion_risk_tier = 'L' then 0 \n",
    "                  when pre_expansion_risk_tier = 'H' then 1 end) as max_daily_risk_tier\n",
    "        ,max(holdout_group) as holdout_group\n",
    "        from SUP_risk_filter_events\n",
    "        group by 1,2)''')\n",
    "    \n"
   ]
  },
  {
   "cell_type": "code",
   "execution_count": 0,
   "metadata": {
    "application/vnd.databricks.v1+cell": {
     "cellMetadata": {
      "byteLimit": 2048000,
      "rowLimit": 10000
     },
     "inputWidgets": {},
     "nuid": "fdbde2e4-521f-4bc9-8874-f358d912e0e9",
     "showTitle": false,
     "tableResultSettingsMap": {},
     "title": ""
    }
   },
   "outputs": [],
   "source": [
    "holdout_group = conn.execute('create or replace temp table holdouts_deduped as (select distinct consumer_uuid, holdout_group from SUP_Risk_Filter_Events);')"
   ]
  },
  {
   "cell_type": "code",
   "execution_count": 0,
   "metadata": {
    "application/vnd.databricks.v1+cell": {
     "cellMetadata": {
      "byteLimit": 2048000,
      "rowLimit": 10000
     },
     "inputWidgets": {},
     "nuid": "cafbe490-5594-4a20-9b84-4a556c0300e4",
     "showTitle": false,
     "tableResultSettingsMap": {},
     "title": ""
    }
   },
   "outputs": [],
   "source": [
    "conn.download('select * from holdouts_deduped')"
   ]
  },
  {
   "cell_type": "code",
   "execution_count": 0,
   "metadata": {
    "application/vnd.databricks.v1+cell": {
     "cellMetadata": {
      "byteLimit": 2048000,
      "rowLimit": 10000
     },
     "inputWidgets": {},
     "nuid": "831238fd-9c25-40e6-a85b-eeb6b22c20ae",
     "showTitle": false,
     "tableResultSettingsMap": {},
     "title": ""
    }
   },
   "outputs": [],
   "source": [
    "#check if a consumer has multiple risk_tiers per day\n",
    "holdout_group_dupe_check = conn.download('select consumer_uuid, count(distinct(holdout_group)) as holdout_group_count from holdouts_deduped group by 1 order by 2 desc limit 5')\n",
    "holdout_group_dupe_check ## so a customer can be evaluated as having both low and high risk tiers on the same day, this will be a bit tricky to find the high risk population, but i'll use aggregates to paint a clearer picture\n"
   ]
  },
  {
   "cell_type": "code",
   "execution_count": 0,
   "metadata": {
    "application/vnd.databricks.v1+cell": {
     "cellMetadata": {
      "byteLimit": 2048000,
      "rowLimit": 10000
     },
     "inputWidgets": {},
     "nuid": "299ec4de-00d0-4c65-93d9-8ff2d4a25184",
     "showTitle": false,
     "tableResultSettingsMap": {},
     "title": ""
    }
   },
   "outputs": [],
   "source": [
    "#CHECKOUT TIME filter needs to be applied as to make sure holdout group is properly applied\n",
    "order_token_driver = '''create or replace temp table SUP_attempts AS (\n",
    "    SELECT \n",
    "        a.order_token\n",
    "        ,a.consumer_id\n",
    "        ,a.checkout_time\n",
    "        ,a.par_region\n",
    "        ,a.bp_is_sup\n",
    "        ,a.consumer_is_First_order\n",
    "        ,a.days_since_First_order_date\n",
    "        ,a.in_flight_order_merchant_name\n",
    "        ,a.in_flight_order_merchant_id\n",
    "        ,a.trust\n",
    "        ,a.in_flight_order_amount\n",
    "        ,a.order_amount_local\n",
    "        ,a.whitepages_identity_check_score\n",
    "        ,a.bp_c_batch_consumer_batch_model_v1\n",
    "        ,a.MODEL_ONLINE_OD_ABUSIVE_GLOBAL_APRIL_2024_SCORE\n",
    "        ,a.MODEL_ONLINE_OD_PAYBACK_NON_US_APRIL_2024_SCORE\n",
    "        ,a.MODEL_ONLINE_OD_GLOBAL_PAYBACK_SUP_MODEL_AUGUST_2023_SCORE\n",
    "        ,c.holdout_group\n",
    "        ,min_daily_risk_tier\n",
    "        ,max_daily_risk_tier\n",
    "        ,case when b.min_daily_risk_tier = 0 then 'L' else 'H' end as min_daily_risk_tier_fixed\n",
    "        ,case when b.max_daily_risk_tier = 0 then 'L' else 'H' end as max_daily_risk_tier_fixed\n",
    "        ,case when bp_c_batch_consumer_batch_model_v1 <= 780 then 'L' else 'H' end as order_risk_tier\n",
    "        ,case when b.min_daily_risk_tier = b.max_daily_risk_tier then 1 else 0 end as daily_risk_tier_was_consistent\n",
    "        from  ap_cur_r_frdrisk.curated_fraud_risk_red.unified_feature_datamart_base__jobyg_dsl3_sv a\n",
    "        left join eligibility_driver_cust_day_deduped b\n",
    "        on a.consumer_id = b.consumer_uuid\n",
    "        and a.par_process_Date =b.par_process_date\n",
    "        left join holdouts_deduped c\n",
    "        on a.consumer_id = c.consumer_uuid\n",
    "        where a.par_Region = 'GB'\n",
    "        and a.par_process_date >= '2025-04-09'\n",
    "        and a.bp_is_sup = 1\n",
    "        and coalesce(a.days_since_First_order_date,0) <= 14\n",
    "        and dedup=1\n",
    "        and checkout_time >= '2025-04-09 21:03:38.711'        );\n",
    "'''\n",
    "conn.execute(order_token_driver)"
   ]
  },
  {
   "cell_type": "code",
   "execution_count": 0,
   "metadata": {
    "application/vnd.databricks.v1+cell": {
     "cellMetadata": {
      "byteLimit": 2048000,
      "rowLimit": 10000
     },
     "inputWidgets": {},
     "nuid": "6bc6b9e8-aaed-439e-9ee5-5bc2aebc416b",
     "showTitle": false,
     "tableResultSettingsMap": {},
     "title": ""
    }
   },
   "outputs": [],
   "source": [
    "#confirm each order_token has a holdoutgroup\n",
    "view = conn.download('select * from SUP_attempts')\n",
    "print(view.shape)\n"
   ]
  },
  {
   "cell_type": "code",
   "execution_count": 0,
   "metadata": {
    "application/vnd.databricks.v1+cell": {
     "cellMetadata": {
      "byteLimit": 2048000,
      "rowLimit": 10000
     },
     "inputWidgets": {},
     "nuid": "1b45294b-a236-45ac-a4e5-8fc6d3c54896",
     "showTitle": false,
     "tableResultSettingsMap": {},
     "title": ""
    }
   },
   "outputs": [],
   "source": [
    "view.loc[view.holdout_group.isnull()] #edge cases where the eligibility tracker happened in between rule modifications, i can remove them"
   ]
  },
  {
   "cell_type": "code",
   "execution_count": 0,
   "metadata": {
    "application/vnd.databricks.v1+cell": {
     "cellMetadata": {
      "byteLimit": 2048000,
      "rowLimit": 10000
     },
     "inputWidgets": {},
     "nuid": "5263f08d-76c1-4b04-b561-0bbc23919931",
     "showTitle": false,
     "tableResultSettingsMap": {},
     "title": ""
    }
   },
   "outputs": [],
   "source": [
    "view = view.loc[~view.holdout_group.isnull()]"
   ]
  },
  {
   "cell_type": "code",
   "execution_count": 0,
   "metadata": {
    "application/vnd.databricks.v1+cell": {
     "cellMetadata": {
      "byteLimit": 2048000,
      "rowLimit": 10000
     },
     "inputWidgets": {},
     "nuid": "3b9da49d-a5f5-4a6d-937e-71865881c69a",
     "showTitle": false,
     "tableResultSettingsMap": {},
     "title": ""
    }
   },
   "outputs": [],
   "source": [
    "view.loc[view.min_daily_risk_tier.isnull()] #ok the min and max daily risk tier are null due to the join logic as they occur right at midnight >.>, i'll remove them for now "
   ]
  },
  {
   "cell_type": "code",
   "execution_count": 0,
   "metadata": {
    "application/vnd.databricks.v1+cell": {
     "cellMetadata": {
      "byteLimit": 2048000,
      "rowLimit": 10000
     },
     "inputWidgets": {},
     "nuid": "5ca32f9d-10cc-4aeb-ac1d-172e879c251c",
     "showTitle": false,
     "tableResultSettingsMap": {},
     "title": ""
    }
   },
   "outputs": [],
   "source": [
    "view = view.loc[~view.min_daily_risk_tier.isnull()]"
   ]
  },
  {
   "cell_type": "code",
   "execution_count": 0,
   "metadata": {
    "application/vnd.databricks.v1+cell": {
     "cellMetadata": {
      "byteLimit": 2048000,
      "rowLimit": 10000
     },
     "inputWidgets": {},
     "nuid": "9699ca99-f7aa-45c3-9659-11b783e5d4f0",
     "showTitle": false,
     "tableResultSettingsMap": {},
     "title": ""
    }
   },
   "outputs": [],
   "source": [
    "view.shape #removed 14 transactions in total, 1.8% impact but makes my analysis clean"
   ]
  },
  {
   "cell_type": "markdown",
   "metadata": {
    "application/vnd.databricks.v1+cell": {
     "cellMetadata": {
      "byteLimit": 2048000,
      "rowLimit": 10000
     },
     "inputWidgets": {},
     "nuid": "ccd66d2b-d54f-467c-813a-aea9b7d38bf3",
     "showTitle": false,
     "tableResultSettingsMap": {},
     "title": ""
    }
   },
   "source": [
    "\n",
    "# Let's Compare High Risk BAU Control to High risk expanded elgibility"
   ]
  },
  {
   "cell_type": "code",
   "execution_count": 0,
   "metadata": {
    "application/vnd.databricks.v1+cell": {
     "cellMetadata": {
      "byteLimit": 2048000,
      "rowLimit": 10000
     },
     "inputWidgets": {},
     "nuid": "2a64a994-c6b2-4bdb-a8a9-1210077647ff",
     "showTitle": false,
     "tableResultSettingsMap": {},
     "title": ""
    }
   },
   "outputs": [],
   "source": [
    "high_risk_pop = conn.download('''select * from SUP_attempts where (min_daily_risk_tier_fixed = 'H' or max_daily_risk_tier_fixed = 'H' or order_risk_tier = 'H') and holdout_Group is not null and min_daily_risk_tier is not null ''')"
   ]
  },
  {
   "cell_type": "code",
   "execution_count": 0,
   "metadata": {
    "application/vnd.databricks.v1+cell": {
     "cellMetadata": {
      "byteLimit": 2048000,
      "rowLimit": 10000
     },
     "inputWidgets": {},
     "nuid": "af3c3896-e625-45a5-aeed-8d8250999c81",
     "showTitle": false,
     "tableResultSettingsMap": {},
     "title": ""
    }
   },
   "outputs": [],
   "source": [
    "high_risk_pop.daily_risk_tier_was_consistent.value_counts(normalize=True) #for the most part, all the high risk attempts were made by consistently high risk customers throughout the day, let's look at where the flag = 0"
   ]
  },
  {
   "cell_type": "code",
   "execution_count": 0,
   "metadata": {
    "application/vnd.databricks.v1+cell": {
     "cellMetadata": {
      "byteLimit": 2048000,
      "rowLimit": 10000
     },
     "inputWidgets": {},
     "nuid": "3bf886ba-4c2e-4ab8-8ea7-d0c839613540",
     "showTitle": false,
     "tableResultSettingsMap": {},
     "title": ""
    }
   },
   "outputs": [],
   "source": [
    "high_risk_pop.loc[high_risk_pop.daily_risk_tier_was_consistent==0] #since all of the flags where the daily risk tier was consistent had an order_risk_Tier of H, we'll label all of these as high risk tiers, using the max tier"
   ]
  },
  {
   "cell_type": "code",
   "execution_count": 0,
   "metadata": {
    "application/vnd.databricks.v1+cell": {
     "cellMetadata": {
      "byteLimit": 2048000,
      "rowLimit": 10000
     },
     "inputWidgets": {},
     "nuid": "d3d874c8-1c4a-44ee-849c-e1243dee40f5",
     "showTitle": false,
     "tableResultSettingsMap": {},
     "title": ""
    }
   },
   "outputs": [],
   "source": [
    "analysis = conn.download('''\n",
    "        select \n",
    "            max_daily_risk_tier_fixed, \n",
    "            holdout_group, \n",
    "            in_flight_order_merchant_name,\n",
    "            count(distinct(order_token)) as token_ct,\n",
    "            sum(in_flight_order_amount)  as attempt_amt\n",
    "            from\n",
    "            SUP_attempts where max_daily_risk_tier_fixed = 'H'\n",
    "            and holdout_Group is not null\n",
    "            group by 1,2,3\n",
    "             ''')\n",
    "analysis.sort_values(by =['holdout_group', 'token_ct'], ascending=[True,False]) #uh oh how are the high risk customers placing orders at amazon"
   ]
  },
  {
   "cell_type": "code",
   "execution_count": 0,
   "metadata": {
    "application/vnd.databricks.v1+cell": {
     "cellMetadata": {
      "byteLimit": 2048000,
      "rowLimit": 10000
     },
     "inputWidgets": {},
     "nuid": "55a8cbdd-a5aa-4113-9a5d-6711c48838c9",
     "showTitle": false,
     "tableResultSettingsMap": {},
     "title": ""
    }
   },
   "outputs": [],
   "source": [
    "amazon = conn.download('''select * from SUP_attempts where in_flight_order_merchant_name ilike 'AMAZON%' ''')"
   ]
  },
  {
   "cell_type": "code",
   "execution_count": 0,
   "metadata": {
    "application/vnd.databricks.v1+cell": {
     "cellMetadata": {
      "byteLimit": 2048000,
      "rowLimit": 10000
     },
     "inputWidgets": {},
     "nuid": "66e26299-1f21-4a7b-aaf6-639a079d5751",
     "showTitle": false,
     "tableResultSettingsMap": {},
     "title": ""
    }
   },
   "outputs": [],
   "source": [
    "amazon.holdout_group.value_counts(normalize=True)"
   ]
  },
  {
   "cell_type": "code",
   "execution_count": 0,
   "metadata": {
    "application/vnd.databricks.v1+cell": {
     "cellMetadata": {
      "byteLimit": 2048000,
      "rowLimit": 10000
     },
     "inputWidgets": {},
     "nuid": "e937276b-06d2-4b6f-b623-1f38ddc7166a",
     "showTitle": false,
     "tableResultSettingsMap": {},
     "title": ""
    }
   },
   "outputs": [],
   "source": [
    "examination.loc[examination.checkpoint == 'SUP_MERCHANT_RISK_FILTER']"
   ]
  },
  {
   "cell_type": "code",
   "execution_count": 0,
   "metadata": {
    "application/vnd.databricks.v1+cell": {
     "cellMetadata": {},
     "inputWidgets": {},
     "nuid": "67d16cf4-2935-49c7-9391-22286284143f",
     "showTitle": false,
     "tableResultSettingsMap": {},
     "title": ""
    }
   },
   "outputs": [],
   "source": [
    "else:\n",
    "        if rt:\n",
    "            source_table = f'AP_CUR_R_FEATSCI.curated_feature_science_red.TBL_RAW_C_E_FC_DECISION_RECORD_RULES__{user_name}_DSL3_SV'\n",
    "            output_table = 'trusted_layer_validation_rt'\n",
    "        \n",
    "        else:\n",
    "            source_table = f'AP_CUR_R_FEATSCI.curated_feature_science_red.RAW_C_E_FC_DECISION_RECORD_RULES_RT__{user_name}_DSL3_SV'\n",
    "            output_table = 'trusted_layer_Validation'\n",
    "        query = f'''CREATE or replace temp table {output_table} AS (SELECT\n",
    "        a.*, to_number(substring(MD5(concat(a.CONSUMER_ID,'oon_expansion')),1,6),'XXXXXX')/to_number('ffffff','XXXXXX')::decimal(10,2) as test_key,\n",
    "        case when merchant_id in ('400538723', '400570637', '400575272', '400568202', '400504709', '400535118', '400551784', '400527714', '400515891', '400546925', '400527604', '400562359', '400474538', '400571508', '400515894', '400569331', '400572942', '400547364', '400474394', '400527759', '400575150', '400562345', '400570636', '400527737', '400527047', '400474401', '400475455', '400527639', '400527593', '400574444', '400461110', '400488351', '400507556', '400527756', '400569337', '400527058', '400570624', '400510052', '400510042', '400515896', '400575275', '400527704', '400514646', '400527833', '400522690', '400527601', '400562315', '400579004', '400527066', '400507557', '400509583', '400507558', '400507559',   '400517492') then 1 else 0 end as gb_sup_flag,\n",
    "        CASE \n",
    "            WHEN c.first_order_date IS NULL THEN 'new'\n",
    "            WHEN DATEDIFF('day', c.first_order_date, a.par_process_date) <= 14 THEN 'new'\n",
    "            ELSE 'existing'\n",
    "        END as customer_tenure\n",
    "        FROM  {source_table} a\n",
    "        LEFT JOIN AP_RAW_GREEN.GREEN.D_CONSUMER c\n",
    "        ON a.CONSUMER_ID = c.uuid\n",
    "        WHERE a.checkpoint in ('CHECKOUT_CONFIRM')\n",
    "        -- AND ((is_rejected = 'True' and is_in_treatment ilike 'True'))\n",
    "        AND a.par_process_date >= '{start_time}'::date\n",
    "        and a.par_Region = 'GB'); '''"
   ]
  },
  {
   "cell_type": "markdown",
   "metadata": {
    "application/vnd.databricks.v1+cell": {
     "cellMetadata": {},
     "inputWidgets": {},
     "nuid": "7d397408-a935-48ab-bf22-ddff4e48833d",
     "showTitle": false,
     "tableResultSettingsMap": {},
     "title": ""
    }
   },
   "source": [
    "\n",
    "# Look into the trusted layer population\n",
    "\n",
    "There's two things i need to do, make this more flexibile for a real time vs non real time analysis."
   ]
  }
 ],
 "metadata": {
  "application/vnd.databricks.v1+notebook": {
   "computePreferences": null,
   "dashboards": [],
   "environmentMetadata": {
    "base_environment": "",
    "environment_version": "2"
   },
   "inputWidgetPreferences": null,
   "language": "python",
   "notebookMetadata": {
    "pythonIndentUnit": 4
   },
   "notebookName": "4_10 Experiment Analysis",
   "widgets": {}
  },
  "language_info": {
   "name": "python"
  }
 },
 "nbformat": 4,
 "nbformat_minor": 0
}
