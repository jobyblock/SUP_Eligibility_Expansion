{
 "cells": [
  {
   "cell_type": "markdown",
   "metadata": {
    "application/vnd.databricks.v1+cell": {
     "cellMetadata": {},
     "inputWidgets": {},
     "nuid": "559ec5af-7e30-46c7-8607-4211e3ba6844",
     "showTitle": false,
     "tableResultSettingsMap": {},
     "title": ""
    }
   },
   "source": [
    "\n",
    "#UK Single Use Product (SUP): Eligibility Expansion Impact Analysis\n",
    "## AUthor Joby George (jobyg)\n",
    "## 4/10/2025\n",
    "\n",
    "## Context: Current Operating SUP Eligibility Strategy\n",
    "- Customer Risk Segmentation:\n",
    "  - **Low Risk**: ~90% of customer base\n",
    "    - Full access to all SUP merchants (including Amazon/eBay)\n",
    "  \n",
    "  - **High Risk**: ~10% of customer base\n",
    "    - Limited SUP merchant access\n",
    "    - Cannot access Amazon/eBay\n",
    "\n",
    "## Experiment\n",
    "\n",
    "## Test Design (Launch: April 16, 2025)\n",
    "### Population Split\n",
    "1. **Control Group** (10% of all customers)\n",
    "   - Maintains current risk-based restrictions\n",
    "   - High risk users continue to have limited merchant access\n",
    "\n",
    "2. **Treatment Group A** (80% of all customers)\n",
    "   - All customers get full merchant access\n",
    "   - Standard transaction controls\n",
    "\n",
    "3. **Treatment Group B** (10% of all customers)\n",
    "   - All customers get full merchant access\n",
    "   - Enhanced transaction privileges\n",
    "\n",
    "## Smoke Test (Launch April 9th, 2025)\n",
    "\n",
    "On April 9th, a proof of concept was done to confirm the test roll-out would work as intended. The Smoke-Test kept 80% of customers as BAU, with 20% given full merchant access. Out of the enabled 20%, 10% of them were also given trusted layer priviledges.\n",
    "\n"
   ]
  },
  {
   "cell_type": "markdown",
   "metadata": {
    "application/vnd.databricks.v1+cell": {
     "cellMetadata": {},
     "inputWidgets": {},
     "nuid": "8c090e37-3127-4dec-8836-7fc91e1656d5",
     "showTitle": false,
     "tableResultSettingsMap": {},
     "title": ""
    }
   },
   "source": [
    "# Script Goals:\n",
    "\n",
    "This script looks to measure the experiment effects on consumer purchasing behavior looking at the following:\n",
    "\n",
    "## 1. Core Impact Analysis - High Risk Population\n",
    "### Primary Metrics\n",
    "- **Attempt Rate**\n",
    "  - High Risk Control vs.\n",
    "  - High Risk Expanded Eligibility vs.\n",
    "  - High Risk Expanded Eligibility + Reduced Controls\n",
    "  \n",
    "- **Fraud Decline Rate**\n",
    "  - Split by population groups above\n",
    "  - Control for existing fraud patterns\n",
    "  \n",
    "- **GPV (Gross Payment Volume)**\n",
    "  - Total volume\n",
    "  - Average transaction size\n",
    "  - Transaction frequency\n",
    "  \n",
    "- **NAC (New Active Customer) Rate**\n",
    "  - First-time SUP usage\n",
    "  - Activation patterns by group\n",
    "\n",
    "### Control Variables\n",
    "- Existing trusted layer assignments\n",
    "\n",
    "## 2. Transaction Control Validation\n",
    "### Technical Verification\n",
    "- Confirm no overlap between:\n",
    "  - Reduced transaction control group\n",
    "  - GB trusted layer rule assignments\n",
    "  \n",
    "### Population Segmentation\n",
    "- Create clean comparison groups:\n",
    "  1. Base: High Risk Control\n",
    "  2. Treatment 1: High Risk + Expanded Eligibility (only)\n",
    "  3. Treatment 2: High Risk + Expanded Eligibility + Reduced Controls\n",
    "     - Exclude any GB trusted layer assignments\n",
    "\n",
    "## 3. Risk Tier Analysis for Reduced Controls\n",
    "### Comparison Framework\n",
    "Split Treatment 2 (Expanded + Reduced Controls) by:\n",
    "- Low Risk\n",
    "  - With existing trusted layer\n",
    "  - Without existing trusted layer\n",
    "- High Risk\n",
    "  - With existing trusted layer\n",
    "  - Without existing trusted layer\n",
    "\n",
    "### Metrics by Segment\n",
    "- Attempt success rate\n",
    "- Transaction volume\n",
    "- Fraud rates (takes time to mature)\n",
    "- Decline rates"
   ]
  },
  {
   "cell_type": "markdown",
   "metadata": {
    "application/vnd.databricks.v1+cell": {
     "cellMetadata": {},
     "inputWidgets": {},
     "nuid": "968a0c09-8c7a-45db-813a-039c00009dc8",
     "showTitle": false,
     "tableResultSettingsMap": {},
     "title": ""
    }
   },
   "source": [
    "\n",
    "#Prepping the data to compare impact of expanded merchant eligibility"
   ]
  },
  {
   "cell_type": "code",
   "execution_count": 0,
   "metadata": {
    "application/vnd.databricks.v1+cell": {
     "cellMetadata": {
      "byteLimit": 2048000,
      "rowLimit": 10000
     },
     "inputWidgets": {},
     "nuid": "57dbaa66-a4f5-4b75-98fd-f45ca291af4d",
     "showTitle": false,
     "tableResultSettingsMap": {},
     "title": ""
    }
   },
   "outputs": [],
   "source": [
    "#set up\n",
    "\n",
    "import json\n",
    "import matplotlib.pyplot as plt\n",
    "import seaborn as sns\n",
    "from datetime import datetime, timedelta\n",
    "import pandas as pd\n",
    "import numpy as np\n",
    "\n",
    "# from utils import policy_dict, policy_data_dict, find_non_zero_riskweight_rules, find_zero_riskweight_rules\n",
    "from pandasql import sqldf\n",
    "from tqdm import tqdm\n",
    "import logging\n",
    "\n",
    "# Standard data manipulation and visualization packages\n",
    "import pandas as pd\n",
    "import numpy as np\n",
    "\n",
    "\n",
    "# Display settings\n",
    "pd.set_option('display.max_columns', None)  # Show all columns\n",
    "pd.set_option('display.max_rows', 100)      # Show 100 rows max\n",
    "pd.set_option('display.width', None)        # Auto-detect display width\n",
    "pd.set_option('display.float_format', lambda x: '%.3f' % x)  # Format floats to 3 decimal places\n",
    "\n",
    "# Plotting settings\n",
    "plt.style.use('seaborn')\n",
    "sns.set_palette(\"husl\")\n",
    "plt.rcParams['figure.figsize'] = [12, 6]  # Set default figure size\n",
    "\n",
    "\n",
    "from pysnowflake import Session\n",
    "run_query = lambda query: sqldf(query, globals())\n",
    "\n",
    "\n"
   ]
  },
  {
   "cell_type": "code",
   "execution_count": 0,
   "metadata": {
    "application/vnd.databricks.v1+cell": {
     "cellMetadata": {
      "byteLimit": 2048000,
      "rowLimit": 10000
     },
     "inputWidgets": {},
     "nuid": "d8e8f68d-a688-40ea-800b-1640bf37ec02",
     "showTitle": false,
     "tableResultSettingsMap": {},
     "title": ""
    }
   },
   "outputs": [],
   "source": [
    "USER_NAME = 'jobyg' #replace it with your ldap name\n",
    "sess = Session(\n",
    "   connection_override_args={\n",
    "       'autocommit': True,\n",
    "       'authenticator': 'externalbrowser',\n",
    "       'account': 'square',\n",
    "       'database': f'PERSONAL_{USER_NAME.upper()}',\n",
    "       'user': f'{USER_NAME}@squareup.com'\n",
    "   }\n",
    "   \n",
    ")\n",
    "conn = sess.open()\n",
    "\n"
   ]
  },
  {
   "cell_type": "code",
   "execution_count": 0,
   "metadata": {
    "application/vnd.databricks.v1+cell": {
     "cellMetadata": {
      "byteLimit": 2048000,
      "rowLimit": 10000
     },
     "inputWidgets": {},
     "nuid": "b2e5a607-cd34-46d5-b4fd-d15011aac5ab",
     "showTitle": false,
     "tableResultSettingsMap": {},
     "title": ""
    }
   },
   "outputs": [],
   "source": [
    "conn.execute('use warehouse ADHOC__LARGE')\n",
    "conn.execute('use database AP_CUR_FRDRISK_G')\n",
    "conn.execute('use schema public')\n",
    "\n"
   ]
  },
  {
   "cell_type": "code",
   "execution_count": 0,
   "metadata": {
    "application/vnd.databricks.v1+cell": {
     "cellMetadata": {
      "byteLimit": 2048000,
      "rowLimit": 10000
     },
     "inputWidgets": {},
     "nuid": "d36a1cb1-d97d-4a08-848e-39bf8698e22a",
     "showTitle": false,
     "tableResultSettingsMap": {},
     "title": ""
    }
   },
   "outputs": [],
   "source": [
    "#event time filter is needed to control for the rule changes made and ensure consistent logic is applied throughout\n",
    "eligibility_driver = '''create or replace temp table SUP_risk_filter_events AS (\n",
    "\n",
    "    SELECT \n",
    "        a.*,\n",
    "         parse_json((extra))['transient_features']['holdout_group'] as holdout_group,  \n",
    "    parse_json((extra))['transient_features']['pre_expansion_risk_tier'] as pre_expansion_Risk_Tier,\n",
    "    parse_json((extra))['transient_features']['test_key'] as test_key,\n",
    "        c.first_order_date,\n",
    "        CASE \n",
    "            WHEN c.first_order_date IS NULL THEN 'new'\n",
    "            WHEN DATEDIFF('day', c.first_order_date, a.par_process_date) < 15 THEN 'new'\n",
    "            ELSE 'existing'\n",
    "        END as customer_tenure\n",
    "    FROM ap_cur_r_featsci.curated_feature_science_red.raw_r_e_rekarma_rl_exec_rslt_rules_rt__jobyg_dsl3_sv a\n",
    "    LEFT JOIN AP_RAW_GREEN.GREEN.D_CONSUMER c\n",
    "        ON a.consumer_uuid = c.uuid\n",
    "    WHERE a.event_time >= '2025-04-09 19:03:38.711'\n",
    "    and customer_tenure = 'new'\n",
    "    and a.rule_id = 'gb_fraud_online_sup_eligibility_model_risk_filter_elgibility_experiment'\n",
    ")'''\n",
    "conn.execute(eligibility_driver)\n"
   ]
  },
  {
   "cell_type": "code",
   "execution_count": 0,
   "metadata": {
    "application/vnd.databricks.v1+cell": {
     "cellMetadata": {
      "byteLimit": 2048000,
      "rowLimit": 10000
     },
     "inputWidgets": {},
     "nuid": "be99ffcd-c24d-453f-82d1-9fcb5da4e8e2",
     "showTitle": false,
     "tableResultSettingsMap": {},
     "title": ""
    }
   },
   "outputs": [],
   "source": [
    "#check if a consumer has multiple risk_tiers per day\n",
    "risk_tier_dupe_check = conn.download('select par_process_Date, consumer_uuid, count(distinct(pre_expansion_risk_tier)) as risk_tier_count from SUP_risk_filter_events group by 1,2 order by 3 desc limit 5')\n",
    "risk_tier_dupe_check ## so a customer can be evaluated as having both low and high risk tiers on the same day, this will be a bit tricky to find the high risk population, but i'll use aggregates to paint a clearer picture\n"
   ]
  },
  {
   "cell_type": "code",
   "execution_count": 0,
   "metadata": {
    "application/vnd.databricks.v1+cell": {
     "cellMetadata": {
      "byteLimit": 2048000,
      "rowLimit": 10000
     },
     "inputWidgets": {},
     "nuid": "82790511-4ade-41f4-a39d-f0ccf22a9b24",
     "showTitle": false,
     "tableResultSettingsMap": {},
     "title": ""
    }
   },
   "outputs": [],
   "source": [
    "eligbility_driver_cust_day_level_q = conn.execute('''\n",
    "   create or replace temp table eligibility_driver_cust_day_deduped as (select \n",
    "        par_process_date\n",
    "        ,consumer_uuid\n",
    "        ,min(case when pre_expansion_risk_tier = 'L' then 0 \n",
    "                  when pre_expansion_risk_tier = 'H' then 1 end) as min_daily_risk_tier\n",
    "        ,max(case when pre_expansion_risk_tier = 'L' then 0 \n",
    "                  when pre_expansion_risk_tier = 'H' then 1 end) as max_daily_risk_tier\n",
    "        ,max(holdout_group) as holdout_group\n",
    "        from SUP_risk_filter_events\n",
    "        group by 1,2)''')\n",
    "    \n"
   ]
  },
  {
   "cell_type": "code",
   "execution_count": 0,
   "metadata": {
    "application/vnd.databricks.v1+cell": {
     "cellMetadata": {
      "byteLimit": 2048000,
      "rowLimit": 10000
     },
     "inputWidgets": {},
     "nuid": "fdbde2e4-521f-4bc9-8874-f358d912e0e9",
     "showTitle": false,
     "tableResultSettingsMap": {},
     "title": ""
    }
   },
   "outputs": [],
   "source": [
    "holdout_group = conn.execute('create or replace temp table holdouts_deduped as (select distinct consumer_uuid, holdout_group from SUP_Risk_Filter_Events);')"
   ]
  },
  {
   "cell_type": "code",
   "execution_count": 0,
   "metadata": {
    "application/vnd.databricks.v1+cell": {
     "cellMetadata": {
      "byteLimit": 2048000,
      "rowLimit": 10000
     },
     "inputWidgets": {},
     "nuid": "cafbe490-5594-4a20-9b84-4a556c0300e4",
     "showTitle": false,
     "tableResultSettingsMap": {},
     "title": ""
    }
   },
   "outputs": [],
   "source": [
    "conn.download('select * from holdouts_deduped')"
   ]
  },
  {
   "cell_type": "code",
   "execution_count": 0,
   "metadata": {
    "application/vnd.databricks.v1+cell": {
     "cellMetadata": {
      "byteLimit": 2048000,
      "rowLimit": 10000
     },
     "inputWidgets": {},
     "nuid": "831238fd-9c25-40e6-a85b-eeb6b22c20ae",
     "showTitle": false,
     "tableResultSettingsMap": {},
     "title": ""
    }
   },
   "outputs": [],
   "source": [
    "#check if a consumer has multiple risk_tiers per day\n",
    "holdout_group_dupe_check = conn.download('select consumer_uuid, count(distinct(holdout_group)) as holdout_group_count from holdouts_deduped group by 1 order by 2 desc limit 5')\n",
    "holdout_group_dupe_check ## so a customer can be evaluated as having both low and high risk tiers on the same day, this will be a bit tricky to find the high risk population, but i'll use aggregates to paint a clearer picture\n"
   ]
  },
  {
   "cell_type": "code",
   "execution_count": 0,
   "metadata": {
    "application/vnd.databricks.v1+cell": {
     "cellMetadata": {
      "byteLimit": 2048000,
      "rowLimit": 10000
     },
     "inputWidgets": {},
     "nuid": "299ec4de-00d0-4c65-93d9-8ff2d4a25184",
     "showTitle": false,
     "tableResultSettingsMap": {},
     "title": ""
    }
   },
   "outputs": [],
   "source": [
    "#CHECKOUT TIME filter needs to be applied as to make sure holdout group is properly applied\n",
    "order_token_driver = '''create or replace temp table SUP_attempts AS (\n",
    "    SELECT \n",
    "        a.order_token\n",
    "        ,a.consumer_id\n",
    "        ,a.checkout_time\n",
    "        ,a.par_region\n",
    "        ,a.bp_is_sup\n",
    "        ,a.consumer_is_First_order\n",
    "        ,a.days_since_First_order_date\n",
    "        ,a.in_flight_order_merchant_name\n",
    "        ,a.in_flight_order_merchant_id\n",
    "        ,a.trust\n",
    "        ,a.in_flight_order_amount\n",
    "        ,a.order_amount_local\n",
    "        ,a.whitepages_identity_check_score\n",
    "        ,a.bp_c_batch_consumer_batch_model_v1\n",
    "        ,a.MODEL_ONLINE_OD_ABUSIVE_GLOBAL_APRIL_2024_SCORE\n",
    "        ,a.MODEL_ONLINE_OD_PAYBACK_NON_US_APRIL_2024_SCORE\n",
    "        ,a.MODEL_ONLINE_OD_GLOBAL_PAYBACK_SUP_MODEL_AUGUST_2023_SCORE\n",
    "        ,c.holdout_group\n",
    "        ,min_daily_risk_tier\n",
    "        ,max_daily_risk_tier\n",
    "        ,case when b.min_daily_risk_tier = 0 then 'L' else 'H' end as min_daily_risk_tier_fixed\n",
    "        ,case when b.max_daily_risk_tier = 0 then 'L' else 'H' end as max_daily_risk_tier_fixed\n",
    "        ,case when bp_c_batch_consumer_batch_model_v1 <= 780 then 'L' else 'H' end as order_risk_tier\n",
    "        ,case when b.min_daily_risk_tier = b.max_daily_risk_tier then 1 else 0 end as daily_risk_tier_was_consistent\n",
    "        from  ap_cur_r_frdrisk.curated_fraud_risk_red.unified_feature_datamart_base__jobyg_dsl3_sv a\n",
    "        left join eligibility_driver_cust_day_deduped b\n",
    "        on a.consumer_id = b.consumer_uuid\n",
    "        and a.par_process_Date =b.par_process_date\n",
    "        left join holdouts_deduped c\n",
    "        on a.consumer_id = c.consumer_uuid\n",
    "        where a.par_Region = 'GB'\n",
    "        and a.par_process_date >= '2025-04-09'\n",
    "        and a.bp_is_sup = 1\n",
    "        and coalesce(a.days_since_First_order_date,0) <= 14\n",
    "        and dedup=1\n",
    "        and checkout_time >= '2025-04-09 21:03:38.711'        );\n",
    "'''\n",
    "conn.execute(order_token_driver)"
   ]
  },
  {
   "cell_type": "code",
   "execution_count": 0,
   "metadata": {
    "application/vnd.databricks.v1+cell": {
     "cellMetadata": {
      "byteLimit": 2048000,
      "rowLimit": 10000
     },
     "inputWidgets": {},
     "nuid": "6bc6b9e8-aaed-439e-9ee5-5bc2aebc416b",
     "showTitle": false,
     "tableResultSettingsMap": {},
     "title": ""
    }
   },
   "outputs": [],
   "source": [
    "#confirm each order_token has a holdoutgroup\n",
    "view = conn.download('select * from SUP_attempts')\n",
    "print(view.shape)\n"
   ]
  },
  {
   "cell_type": "code",
   "execution_count": 0,
   "metadata": {
    "application/vnd.databricks.v1+cell": {
     "cellMetadata": {
      "byteLimit": 2048000,
      "rowLimit": 10000
     },
     "inputWidgets": {},
     "nuid": "1b45294b-a236-45ac-a4e5-8fc6d3c54896",
     "showTitle": false,
     "tableResultSettingsMap": {},
     "title": ""
    }
   },
   "outputs": [],
   "source": [
    "view.loc[view.holdout_group.isnull()] #edge cases where the eligibility tracker happened in between rule modifications, i can remove them"
   ]
  },
  {
   "cell_type": "code",
   "execution_count": 0,
   "metadata": {
    "application/vnd.databricks.v1+cell": {
     "cellMetadata": {
      "byteLimit": 2048000,
      "rowLimit": 10000
     },
     "inputWidgets": {},
     "nuid": "5263f08d-76c1-4b04-b561-0bbc23919931",
     "showTitle": false,
     "tableResultSettingsMap": {},
     "title": ""
    }
   },
   "outputs": [],
   "source": [
    "view = view.loc[~view.holdout_group.isnull()]"
   ]
  },
  {
   "cell_type": "code",
   "execution_count": 0,
   "metadata": {
    "application/vnd.databricks.v1+cell": {
     "cellMetadata": {
      "byteLimit": 2048000,
      "rowLimit": 10000
     },
     "inputWidgets": {},
     "nuid": "3b9da49d-a5f5-4a6d-937e-71865881c69a",
     "showTitle": false,
     "tableResultSettingsMap": {},
     "title": ""
    }
   },
   "outputs": [],
   "source": [
    "view.loc[view.min_daily_risk_tier.isnull()] #ok the min and max daily risk tier are null due to the join logic as they occur right at midnight >.>, i'll remove them for now "
   ]
  },
  {
   "cell_type": "code",
   "execution_count": 0,
   "metadata": {
    "application/vnd.databricks.v1+cell": {
     "cellMetadata": {
      "byteLimit": 2048000,
      "rowLimit": 10000
     },
     "inputWidgets": {},
     "nuid": "5ca32f9d-10cc-4aeb-ac1d-172e879c251c",
     "showTitle": false,
     "tableResultSettingsMap": {},
     "title": ""
    }
   },
   "outputs": [],
   "source": [
    "view = view.loc[~view.min_daily_risk_tier.isnull()]"
   ]
  },
  {
   "cell_type": "code",
   "execution_count": 0,
   "metadata": {
    "application/vnd.databricks.v1+cell": {
     "cellMetadata": {
      "byteLimit": 2048000,
      "rowLimit": 10000
     },
     "inputWidgets": {},
     "nuid": "9699ca99-f7aa-45c3-9659-11b783e5d4f0",
     "showTitle": false,
     "tableResultSettingsMap": {},
     "title": ""
    }
   },
   "outputs": [],
   "source": [
    "view.shape #removed 14 transactions in total, 1.8% impact but makes my analysis clean"
   ]
  },
  {
   "cell_type": "markdown",
   "metadata": {
    "application/vnd.databricks.v1+cell": {
     "cellMetadata": {
      "byteLimit": 2048000,
      "rowLimit": 10000
     },
     "inputWidgets": {},
     "nuid": "ccd66d2b-d54f-467c-813a-aea9b7d38bf3",
     "showTitle": false,
     "tableResultSettingsMap": {},
     "title": ""
    }
   },
   "source": [
    "\n",
    "# Let's Compare High Risk BAU Control to High risk expanded elgibility"
   ]
  },
  {
   "cell_type": "code",
   "execution_count": 0,
   "metadata": {
    "application/vnd.databricks.v1+cell": {
     "cellMetadata": {
      "byteLimit": 2048000,
      "rowLimit": 10000
     },
     "inputWidgets": {},
     "nuid": "2a64a994-c6b2-4bdb-a8a9-1210077647ff",
     "showTitle": false,
     "tableResultSettingsMap": {},
     "title": ""
    }
   },
   "outputs": [],
   "source": [
    "high_risk_pop = conn.download('''select * from SUP_attempts where (min_daily_risk_tier_fixed = 'H' or max_daily_risk_tier_fixed = 'H' or order_risk_tier = 'H') and holdout_Group is not null and min_daily_risk_tier is not null ''')"
   ]
  },
  {
   "cell_type": "code",
   "execution_count": 0,
   "metadata": {
    "application/vnd.databricks.v1+cell": {
     "cellMetadata": {
      "byteLimit": 2048000,
      "rowLimit": 10000
     },
     "inputWidgets": {},
     "nuid": "af3c3896-e625-45a5-aeed-8d8250999c81",
     "showTitle": false,
     "tableResultSettingsMap": {},
     "title": ""
    }
   },
   "outputs": [],
   "source": [
    "high_risk_pop.daily_risk_tier_was_consistent.value_counts(normalize=True) #for the most part, all the high risk attempts were made by consistently high risk customers throughout the day, let's look at where the flag = 0"
   ]
  },
  {
   "cell_type": "code",
   "execution_count": 0,
   "metadata": {
    "application/vnd.databricks.v1+cell": {
     "cellMetadata": {
      "byteLimit": 2048000,
      "rowLimit": 10000
     },
     "inputWidgets": {},
     "nuid": "3bf886ba-4c2e-4ab8-8ea7-d0c839613540",
     "showTitle": false,
     "tableResultSettingsMap": {},
     "title": ""
    }
   },
   "outputs": [],
   "source": [
    "high_risk_pop.loc[high_risk_pop.daily_risk_tier_was_consistent==0] #since all of the flags where the daily risk tier was consistent had an order_risk_Tier of H, we'll label all of these as high risk tiers, using the max tier"
   ]
  },
  {
   "cell_type": "code",
   "execution_count": 0,
   "metadata": {
    "application/vnd.databricks.v1+cell": {
     "cellMetadata": {
      "byteLimit": 2048000,
      "rowLimit": 10000
     },
     "inputWidgets": {},
     "nuid": "d3d874c8-1c4a-44ee-849c-e1243dee40f5",
     "showTitle": false,
     "tableResultSettingsMap": {},
     "title": ""
    }
   },
   "outputs": [],
   "source": [
    "analysis = conn.download('''\n",
    "        select \n",
    "            max_daily_risk_tier_fixed, \n",
    "            holdout_group, \n",
    "            in_flight_order_merchant_name,\n",
    "            count(distinct(order_token)) as token_ct,\n",
    "            sum(in_flight_order_amount)  as attempt_amt\n",
    "            from\n",
    "            SUP_attempts where max_daily_risk_tier_fixed = 'H'\n",
    "            and holdout_Group is not null\n",
    "            group by 1,2,3\n",
    "             ''')\n",
    "analysis.sort_values(by =['holdout_group', 'token_ct'], ascending=[True,False]) #uh oh how are the high risk customers placing orders at amazon"
   ]
  },
  {
   "cell_type": "code",
   "execution_count": 0,
   "metadata": {
    "application/vnd.databricks.v1+cell": {
     "cellMetadata": {
      "byteLimit": 2048000,
      "rowLimit": 10000
     },
     "inputWidgets": {},
     "nuid": "2cdf4253-b7cb-4f12-bc48-52d251ed5197",
     "showTitle": false,
     "tableResultSettingsMap": {},
     "title": ""
    }
   },
   "outputs": [],
   "source": [
    "print('a')"
   ]
  },
  {
   "cell_type": "code",
   "execution_count": 0,
   "metadata": {
    "application/vnd.databricks.v1+cell": {
     "cellMetadata": {
      "byteLimit": 2048000,
      "rowLimit": 10000
     },
     "inputWidgets": {},
     "nuid": "55a8cbdd-a5aa-4113-9a5d-6711c48838c9",
     "showTitle": false,
     "tableResultSettingsMap": {},
     "title": ""
    }
   },
   "outputs": [],
   "source": [
    "amazon = conn.download('''select * from SUP_attempts where in_flight_order_merchant_name ilike 'AMAZON%' ''')"
   ]
  },
  {
   "cell_type": "code",
   "execution_count": 0,
   "metadata": {
    "application/vnd.databricks.v1+cell": {
     "cellMetadata": {
      "byteLimit": 2048000,
      "rowLimit": 10000
     },
     "inputWidgets": {},
     "nuid": "66e26299-1f21-4a7b-aaf6-639a079d5751",
     "showTitle": false,
     "tableResultSettingsMap": {},
     "title": ""
    }
   },
   "outputs": [],
   "source": [
    "amazon.holdout_group.value_counts(normalize=True)"
   ]
  },
  {
   "cell_type": "code",
   "execution_count": 0,
   "metadata": {
    "application/vnd.databricks.v1+cell": {
     "cellMetadata": {
      "byteLimit": 2048000,
      "rowLimit": 10000
     },
     "inputWidgets": {},
     "nuid": "e937276b-06d2-4b6f-b623-1f38ddc7166a",
     "showTitle": false,
     "tableResultSettingsMap": {},
     "title": ""
    }
   },
   "outputs": [],
   "source": [
    "examination.loc[examination.checkpoint == 'SUP_MERCHANT_RISK_FILTER']"
   ]
  },
  {
   "cell_type": "code",
   "execution_count": 0,
   "metadata": {
    "application/vnd.databricks.v1+cell": {
     "cellMetadata": {},
     "inputWidgets": {},
     "nuid": "7d397408-a935-48ab-bf22-ddff4e48833d",
     "showTitle": false,
     "tableResultSettingsMap": {},
     "title": ""
    }
   },
   "outputs": [],
   "source": []
  }
 ],
 "metadata": {
  "application/vnd.databricks.v1+notebook": {
   "computePreferences": null,
   "dashboards": [],
   "environmentMetadata": {
    "base_environment": "",
    "environment_version": "2"
   },
   "inputWidgetPreferences": null,
   "language": "python",
   "notebookMetadata": {
    "pythonIndentUnit": 4
   },
   "notebookName": "4_10 Experiment Analysis",
   "widgets": {}
  },
  "language_info": {
   "name": "python"
  }
 },
 "nbformat": 4,
 "nbformat_minor": 0
}
