{
 "cells": [
  {
   "cell_type": "markdown",
   "metadata": {
    "application/vnd.databricks.v1+cell": {
     "cellMetadata": {},
     "inputWidgets": {},
     "nuid": "6ed74cf4-7ec0-4e3d-abe0-c9f25bef9c36",
     "showTitle": false,
     "tableResultSettingsMap": {},
     "title": ""
    }
   },
   "source": [
    "\n",
    "# SUP Eligibility Expansion Analysis\n",
    "\n",
    "Determine the impact of expanding SUP merchant eligibility, so that all consumers can see all merchants.\n",
    "\n",
    "## Impact of the decision\n",
    "\n",
    "    Customers may make more purchases given the expanded merchant pool, increasing GPV\n",
    "\n",
    "    Higher risk customers will have higher losses at these "
   ]
  },
  {
   "cell_type": "code",
   "execution_count": 0,
   "metadata": {
    "application/vnd.databricks.v1+cell": {
     "cellMetadata": {
      "byteLimit": 2048000,
      "rowLimit": 10000
     },
     "inputWidgets": {},
     "nuid": "73cf1496-c32d-437e-b8d8-44f900338db0",
     "showTitle": false,
     "tableResultSettingsMap": {},
     "title": ""
    }
   },
   "outputs": [],
   "source": [
    "import json\n",
    "# from jsonpath_ng import jsonpath, parse\n",
    "# from jsonpath import jsonpath\n",
    "import pandas as pd\n",
    "import numpy as np\n",
    "\n",
    "# from utils import policy_dict, policy_data_dict, find_non_zero_riskweight_rules, find_zero_riskweight_rules\n",
    "from pandasql import sqldf\n",
    "from tqdm import tqdm\n",
    "import logging\n",
    "\n",
    "from pysnowflake import Session\n",
    "\n",
    "pd.set_option('display.max_rows', 300)\n",
    "pd.set_option('display.max_columns', 100)\n",
    "pd.set_option('display.float_format', lambda x: '%.3f' % x)\n",
    "\n",
    "run_query = lambda query: sqldf(query, globals())\n",
    "\n",
    "\n"
   ]
  },
  {
   "cell_type": "code",
   "execution_count": 0,
   "metadata": {
    "application/vnd.databricks.v1+cell": {
     "cellMetadata": {
      "byteLimit": 2048000,
      "rowLimit": 10000
     },
     "inputWidgets": {},
     "nuid": "015eec93-3095-4e67-99ad-d5b874a70406",
     "showTitle": false,
     "tableResultSettingsMap": {},
     "title": ""
    }
   },
   "outputs": [],
   "source": [
    "USER_NAME = 'jobyg' #replace it with your ldap name\n",
    "sess = Session(\n",
    "   connection_override_args={\n",
    "       'autocommit': True,\n",
    "       'authenticator': 'externalbrowser',\n",
    "       'account': 'square',\n",
    "       'database': f'PERSONAL_{USER_NAME.upper()}',\n",
    "       'user': f'{USER_NAME}@squareup.com'\n",
    "   }\n",
    "   \n",
    ")\n",
    "conn = sess.open()\n",
    "\n"
   ]
  },
  {
   "cell_type": "code",
   "execution_count": 0,
   "metadata": {
    "application/vnd.databricks.v1+cell": {
     "cellMetadata": {
      "byteLimit": 2048000,
      "rowLimit": 10000
     },
     "inputWidgets": {},
     "nuid": "4730e32b-d94d-45ae-9db7-3f521adba562",
     "showTitle": false,
     "tableResultSettingsMap": {},
     "title": ""
    }
   },
   "outputs": [],
   "source": [
    "conn.execute('use warehouse ADHOC__XLARGE')\n",
    "conn.execute('use database AP_CUR_FRDRISK_G')\n",
    "conn.execute('use schema public')\n",
    "\n",
    "query = '''create or replace  table ap_cur_Frdrisk_g.public.jobyg_US_karma as\n",
    "(select\n",
    "a.event_info_event_time\n",
    ",a.event_info_event_time::date as event_date\n",
    ", a.consumer_uuid\n",
    ", c.first_order_date\n",
    ", case\n",
    "when c.first_order_date is null then 'no orders'\n",
    "when datediff('day',c.first_order_date, a.par_process_date) < 0 then 'no orders'\n",
    "when datediff('day',c.first_order_date, a.par_process_date) <= 14 then 'new'\n",
    "when datediff('day',c.first_order_date, a.par_process_date) > 14 then 'tenured'\n",
    "end as tenure_grp\n",
    ", datediff('day',c.first_order_date, a.event_info_event_time) as tenure\n",
    ", a.is_in_treatment\n",
    ", actions\n",
    ",a.par_region\n",
    ", length(actions) as action_length\n",
    ", case when (length(actions) - 94) <= 0 then 0\n",
    "       else round((length(actions) - 94)/12)\n",
    "       end as no_of_merchants_new,\n",
    "\n",
    "case  when a.par_Region = 'GB' and no_of_merchants_new between 19 and 29 then 'gb_high'\n",
    "      when a.par_Region = 'GB' and no_of_merchants_new between 29 and 42 then 'gb_med'\n",
    "      when a.par_Region = 'GB' and no_of_merchants_new > 42 then 'gb_low'\n",
    "\n",
    "      when a.par_Region = 'US' and no_of_merchants_new = 83 then 'us_high'\n",
    "      when a.par_Region = 'US' and no_of_merchants_new between 83 and 126 then 'us_med'\n",
    "      when a.par_Region = 'US' and no_of_merchants_new = 127 then 'us_low'\n",
    "    end as eligbility_tier\n",
    "from AP_CUR_R_FEATSCI.CURATED_FEATURE_SCIENCE_RED.TBL_RAW_R_E_REKARMA_RL_EXEC_RSLT_RULES__jobyg_DSL3_SV a\n",
    "left join AP_RAW_GREEN.GREEN.D_CONSUMER c\n",
    "on a.consumer_uuid = c.uuid\n",
    "where a.rule_id in ('us_fraud_online_sup_eligibility_model_risk_filter_v3'\n",
    "--,'gb_fraud_online_sup_eligibility_model_risk_filter_v3'\n",
    ")\n",
    "and a.event_info_event_time >= '2024-08-01' --and '2024-01-20'\n",
    "and a.par_region in ('US')\n",
    ");'''\n",
    "conn.execute(query)"
   ]
  },
  {
   "cell_type": "code",
   "execution_count": 0,
   "metadata": {
    "application/vnd.databricks.v1+cell": {
     "cellMetadata": {
      "byteLimit": 2048000,
      "rowLimit": 10000
     },
     "inputWidgets": {},
     "nuid": "957ae806-b55f-4b45-a9b5-b95ee41570a7",
     "showTitle": false,
     "tableResultSettingsMap": {},
     "title": ""
    }
   },
   "outputs": [],
   "source": [
    "full_merchant_set = conn.download('''select distinct actions from ap_cur_Frdrisk_g.public.jobyg_US_karma where tenure_grp != 'tenured' ''')"
   ]
  },
  {
   "cell_type": "code",
   "execution_count": 0,
   "metadata": {
    "application/vnd.databricks.v1+cell": {
     "cellMetadata": {
      "byteLimit": 2048000,
      "rowLimit": 10000
     },
     "inputWidgets": {},
     "nuid": "dde36a3f-2665-476f-ab26-b1c6365f6b47",
     "showTitle": false,
     "tableResultSettingsMap": {},
     "title": ""
    }
   },
   "outputs": [],
   "source": [
    "import json\n",
    "\n",
    "def extract_merchant_ids(json_str):\n",
    "    try:\n",
    "        # Parse the JSON string - assuming it's a list of dictionaries\n",
    "        actions = json.loads(json_str)\n",
    "        \n",
    "        # If it's a single dictionary, convert to list\n",
    "        if isinstance(actions, dict):\n",
    "            actions = [actions]\n",
    "            \n",
    "        for action in actions:\n",
    "            if action.get('action_name') == 'allowed_merchant_store_ids_assign':\n",
    "                return action.get('output_map', {}).get('allowed_merchant_ids', [])\n",
    "        return []\n",
    "    except Exception as e:\n",
    "        print(f\"Error processing: {json_str[:100]}...\")  # Print first 100 chars of problematic string\n",
    "        print(f\"Error: {str(e)}\")\n",
    "        return []\n",
    "    \n",
    "all_merchant_ids = []\n",
    "for actions in full_merchant_set['actions'].dropna():\n",
    "    merchant_ids = extract_merchant_ids(actions)\n",
    "    all_merchant_ids.extend(merchant_ids)\n",
    "\n",
    "# Get unique merchant IDs\n",
    "unique_merchant_ids = sorted(list(set(all_merchant_ids)))\n",
    "\n",
    "print(f\"Found {len(unique_merchant_ids)} unique merchant IDs:\")\n",
    "print(unique_merchant_ids)"
   ]
  },
  {
   "cell_type": "code",
   "execution_count": 0,
   "metadata": {
    "application/vnd.databricks.v1+cell": {
     "cellMetadata": {
      "byteLimit": 2048000,
      "rowLimit": 10000
     },
     "inputWidgets": {},
     "nuid": "f2a95840-40bc-424b-aa7e-d19167cdcac1",
     "showTitle": false,
     "tableResultSettingsMap": {},
     "title": ""
    }
   },
   "outputs": [],
   "source": [
    "merchant_mapping = conn.download('''select distinct merchant_id, merchant_name from ap_cur_riskbi_g.curated_risk_bi_green.dwm_order_loss_tagging where sup_yn = 1 and \n",
    "par_region in ('US')\n",
    "and order_date >= '2024-08-01';''')"
   ]
  },
  {
   "cell_type": "code",
   "execution_count": 0,
   "metadata": {
    "application/vnd.databricks.v1+cell": {
     "cellMetadata": {
      "byteLimit": 2048000,
      "rowLimit": 10000
     },
     "inputWidgets": {},
     "nuid": "eeeb3946-c78b-43e7-b2f2-d1467a5ccc0a",
     "showTitle": false,
     "tableResultSettingsMap": {},
     "title": ""
    }
   },
   "outputs": [],
   "source": [
    "# merchant_mapping"
   ]
  },
  {
   "cell_type": "code",
   "execution_count": 0,
   "metadata": {
    "application/vnd.databricks.v1+cell": {
     "cellMetadata": {
      "byteLimit": 2048000,
      "rowLimit": 10000
     },
     "inputWidgets": {},
     "nuid": "b7a43d26-9c0d-47e2-9c09-ad93ab68f9ff",
     "showTitle": false,
     "tableResultSettingsMap": {},
     "title": ""
    }
   },
   "outputs": [],
   "source": [
    "merchant_dict = {}\n",
    "for merchant in unique_merchant_ids:\n",
    "    int_merchant = int(merchant)\n",
    "    try:\n",
    "        merchant_dict[merchant] = str(merchant_mapping.loc[merchant_mapping['merchant_id'] == int_merchant]['merchant_name'].values[0])\n",
    "    except:\n",
    "        merchant_dict[merchant] = merchant\n"
   ]
  },
  {
   "cell_type": "code",
   "execution_count": 0,
   "metadata": {
    "application/vnd.databricks.v1+cell": {
     "cellMetadata": {
      "byteLimit": 2048000,
      "rowLimit": 10000
     },
     "inputWidgets": {},
     "nuid": "872e4fb1-7976-402c-84cc-667d65d72671",
     "showTitle": false,
     "tableResultSettingsMap": {},
     "title": ""
    }
   },
   "outputs": [],
   "source": [
    "merchant_mapping.loc[merchant_mapping.merchant_id == 100140976]['merchant_name'].values[0]"
   ]
  },
  {
   "cell_type": "code",
   "execution_count": 0,
   "metadata": {
    "application/vnd.databricks.v1+cell": {
     "cellMetadata": {
      "byteLimit": 2048000,
      "rowLimit": 10000
     },
     "inputWidgets": {},
     "nuid": "3db8f708-d1ba-479f-bd8e-ad4ecd98065d",
     "showTitle": false,
     "tableResultSettingsMap": {},
     "title": ""
    }
   },
   "outputs": [],
   "source": [
    "merch_list_to_fix = []\n",
    "for v in merchant_dict.values():\n",
    "    try:\n",
    "        v = int(v)\n",
    "        print(v)\n",
    "        merch_list_to_fix.append(v)\n",
    "    except:\n",
    "        continue"
   ]
  },
  {
   "cell_type": "code",
   "execution_count": 0,
   "metadata": {
    "application/vnd.databricks.v1+cell": {
     "cellMetadata": {
      "byteLimit": 2048000,
      "rowLimit": 10000
     },
     "inputWidgets": {},
     "nuid": "556f2dc2-db2d-4ec0-a3ed-1611a09191a1",
     "showTitle": false,
     "tableResultSettingsMap": {},
     "title": ""
    }
   },
   "outputs": [],
   "source": [
    "    \n",
    "query = f'''select distinct merchant_id, merchant_name from ap_cur_riskbi_g.curated_risk_bi_green.dwm_order_loss_tagging\n",
    "where (sup_yn = 1 and \n",
    "par_region in ('US')\n",
    "and order_date >= '2024-08-01')\n",
    "or merchant_id in (\n",
    "'''\n",
    "for i in range(len(merch_list_to_fix)):\n",
    "  if i == 0:\n",
    "       query += f'{merch_list_to_fix[i]}'\n",
    "  else:\n",
    "       query+= f',{merch_list_to_fix[i]}'\n",
    "query+=''') \n",
    ";'''\n",
    "print(query)\n",
    "merchant_mapping = conn.download(query)\n"
   ]
  },
  {
   "cell_type": "code",
   "execution_count": 0,
   "metadata": {
    "application/vnd.databricks.v1+cell": {
     "cellMetadata": {
      "byteLimit": 2048000,
      "rowLimit": 10000
     },
     "inputWidgets": {},
     "nuid": "57b5f20e-ffb8-433b-a5cc-35618e08871c",
     "showTitle": false,
     "tableResultSettingsMap": {},
     "title": ""
    }
   },
   "outputs": [],
   "source": [
    "merchant_dict = {}\n",
    "for merchant in unique_merchant_ids:\n",
    "    int_merchant = int(merchant)\n",
    "    try:\n",
    "        merchant_dict[merchant] = str(merchant_mapping.loc[merchant_mapping['merchant_id'] == int_merchant]['merchant_name'].values[0])\n",
    "    except:\n",
    "        merchant_dict[merchant] = merchant\n"
   ]
  },
  {
   "cell_type": "code",
   "execution_count": 0,
   "metadata": {
    "application/vnd.databricks.v1+cell": {
     "cellMetadata": {
      "byteLimit": 2048000,
      "rowLimit": 10000
     },
     "inputWidgets": {},
     "nuid": "585b1755-e032-4b71-9d84-9e5e5d10468b",
     "showTitle": false,
     "tableResultSettingsMap": {},
     "title": ""
    }
   },
   "outputs": [],
   "source": [
    "merchant_mapping"
   ]
  },
  {
   "cell_type": "code",
   "execution_count": 0,
   "metadata": {
    "application/vnd.databricks.v1+cell": {
     "cellMetadata": {
      "byteLimit": 2048000,
      "rowLimit": 10000
     },
     "inputWidgets": {},
     "nuid": "d97b8582-d9c1-45ea-b87e-ba942ab28ec1",
     "showTitle": false,
     "tableResultSettingsMap": {},
     "title": ""
    }
   },
   "outputs": [],
   "source": [
    "merchant_dict\n",
    "#400510048 -- Harrods\n",
    "#106668596 -- Vitacost\n",
    "#653056 SSENSE\n",
    "# dupe_ct = {}\n",
    "# for k,v in merchant_dict.items():\n",
    "#     dup\n",
    "\n"
   ]
  },
  {
   "cell_type": "code",
   "execution_count": 0,
   "metadata": {
    "application/vnd.databricks.v1+cell": {
     "cellMetadata": {
      "byteLimit": 2048000,
      "rowLimit": 10000
     },
     "inputWidgets": {},
     "nuid": "00d00cd2-06ae-42cc-b5cb-220248f296bc",
     "showTitle": false,
     "tableResultSettingsMap": {},
     "title": ""
    }
   },
   "outputs": [],
   "source": [
    "merchant_dict['400510048'] = 'Harrods'\n",
    "merchant_dict['106668596'] = 'Vitacost'\n",
    "merchant_dict['653056'] = 'SSENSE'\n",
    "#100150231 #400475455 #653056"
   ]
  },
  {
   "cell_type": "markdown",
   "metadata": {
    "application/vnd.databricks.v1+cell": {
     "cellMetadata": {},
     "inputWidgets": {},
     "nuid": "3c97cede-dcd4-4380-bac0-3fb01cb0d9ed",
     "showTitle": false,
     "tableResultSettingsMap": {},
     "title": ""
    }
   },
   "source": [
    "\n",
    "## Determine how often a merchant is present"
   ]
  },
  {
   "cell_type": "code",
   "execution_count": 0,
   "metadata": {
    "application/vnd.databricks.v1+cell": {
     "cellMetadata": {
      "byteLimit": 2048000,
      "rowLimit": 10000
     },
     "inputWidgets": {},
     "nuid": "246975bf-bc17-4588-89d5-361cea9956f8",
     "showTitle": false,
     "tableResultSettingsMap": {},
     "title": ""
    }
   },
   "outputs": [],
   "source": [
    "from collections import defaultdict\n",
    "\n",
    "def invert_dict_to_list(original_dict):\n",
    "    new_dict = defaultdict(list)\n",
    "    for key, value in original_dict.items():\n",
    "        new_dict[value.lower()].append(key)\n",
    "    return dict(new_dict)\n",
    "\n",
    "# Example usage\n",
    "dupe_dict = invert_dict_to_list(merchant_dict)\n",
    "for k,v in dupe_dict.items():\n",
    "    if len(v) >1:\n",
    "        print(k,v)"
   ]
  },
  {
   "cell_type": "code",
   "execution_count": 0,
   "metadata": {
    "application/vnd.databricks.v1+cell": {
     "cellMetadata": {},
     "inputWidgets": {},
     "nuid": "7fed2808-eee0-4bac-95f5-d94198bbea16",
     "showTitle": false,
     "tableResultSettingsMap": {},
     "title": ""
    }
   },
   "outputs": [],
   "source": []
  },
  {
   "cell_type": "code",
   "execution_count": 0,
   "metadata": {
    "application/vnd.databricks.v1+cell": {
     "cellMetadata": {
      "byteLimit": 2048000,
      "rowLimit": 10000
     },
     "inputWidgets": {},
     "nuid": "e7e84f64-65d7-4bda-8d18-64884f9554b9",
     "showTitle": false,
     "tableResultSettingsMap": {},
     "title": ""
    }
   },
   "outputs": [],
   "source": [
    "query = '''create or replace  table ap_cur_Frdrisk_g.public.jobyg_US_karma_v2 as (\n",
    "    select *\n",
    "    '''\n",
    "ebay_count = 0\n",
    "nike_count = 0\n",
    "ssense_count = 0 \n",
    "coach_ct = 0\n",
    "samsung_ct = 0\n",
    "body_shop_flag = 0\n",
    "etsy_ct = 0\n",
    "apple_ct = 0\n",
    "uniqlo_ct = 0\n",
    "\n",
    "for k,v in merchant_dict.items():\n",
    "    # if v == \"Macy's\":\n",
    "    #     v = 'Macys'\n",
    "    # elif v == \"Victoria's Secret\":\n",
    "    #     v = 'Victorias_Secret'\n",
    "    # elif v == \"AT&T\":\n",
    "    #     v='ATT'\n",
    "    # elif v == \"H&M\":\n",
    "    #     v=\"HM\"\n",
    "    # elif v == \"Kohl's\":\n",
    "    #     v = 'Kohls'\n",
    "    # elif v==\"Bloomingdale's\":\n",
    "    #     v = 'Bloomingdales'\n",
    "    if v == '1 800 Flowers':\n",
    "        v= \"one_eight_hundred_flowers\"\n",
    "    \n",
    "    if k in ('100152771', '400461110'):\n",
    "        \n",
    "        ebay_count+=1\n",
    "        print(k,'ebay',ebay_count)\n",
    "        if ebay_count == 1:\n",
    "             query+= f''',case when actions ilike '%100152771%' or actions ilike '%400461110%' then 1 else 0 end as {v}_flag'''\n",
    "    if k in ('100140981', '400474394'):\n",
    "        nike_count+=1\n",
    "        print(k,'nike',nike_count)\n",
    "        if nike_count == 1:\n",
    "             query+= f''',case when actions ilike '%100140981%' or actions ilike '%400474394%' then 1 else 0 end as {v}_flag'''\n",
    "    if k in ('100150231', '400475455', '653056'):\n",
    "        ssense_count+=1\n",
    "        print(k,'ssense', ssense_count)\n",
    "        if ssense_count == 1:\n",
    "             query+= f''',case when actions ilike '%100150231%' or actions ilike '%400475455%' or actions ilike '%653056%' then 1 else 0 end as {v}_flag'''\n",
    "\n",
    "\n",
    "    if k in ('100152858', '400504709'):\n",
    "        coach_ct+=1\n",
    "        print(k,'coach', coach_ct)\n",
    "        if coach_ct == 1:\n",
    "             query+= f''',case when actions ilike '%100152858%' or actions ilike '%400504709%'  then 1 else 0 end as {v}_flag'''\n",
    "    if k in ('400507557', '100162744'):\n",
    "        samsung_ct+=1\n",
    "        print(k,'samsung', samsung_ct)\n",
    "        if samsung_ct == 1:\n",
    "             query+= f''',case when actions ilike '%400507557%' or actions ilike '%100162744%'  then 1 else 0 end as {v}_flag'''\n",
    "\n",
    "\n",
    "    if k in ('100152836', '400515891'):\n",
    "        etsy_ct+=1\n",
    "        print(k,'etsy', etsy_ct)\n",
    "        if etsy_ct == 1:\n",
    "             query+= f''',case when actions ilike '%100152836%' or actions ilike '%400515891%'  then 1 else 0 end as {v}_flag'''\n",
    "    \n",
    "    if k in ('100150199', '400514646'):\n",
    "\n",
    "        apple_ct+=1\n",
    "        print(k,'apple', apple_ct)\n",
    "        if apple_ct == 1:\n",
    "             query+= f''',case when actions ilike '%100150199%' or actions ilike '%400514646%'  then 1 else 0 end as {v}_flag'''\n",
    "    if k in ('100150219', '400575275'):\n",
    "\n",
    "        uniqlo_ct+=1\n",
    "        print(k,'uniqlo', uniqlo_ct)\n",
    "        if uniqlo_ct == 1:\n",
    "             query+= f''',case when actions ilike '%100150219%' or actions ilike '%400575275%'  then 1 else 0 end as {v}_flag'''\n",
    "\n",
    "    \n",
    "\n",
    "    v = v.replace(\"&\",'')\n",
    "    v = v.replace(\"'\",'')\n",
    "    v = v.replace(\",\",'')\n",
    "\n",
    "    v = v.replace(\"-\",'')\n",
    "    v = v.replace(\" \", \"_\") \n",
    "    v = v.replace(\".\", \"dot\")\n",
    "    if k in ('101464464','400510042'):\n",
    "        body_shop_flag+=1\n",
    "        print(k,'coach', body_shop_flag)\n",
    "        if body_shop_flag == 1:\n",
    "             query+= f''',case when actions ilike '%101464464%' or actions ilike '%400510042%'  then 1 else 0 end as {v}_flag'''\n",
    "   \n",
    "    if k not in ('100152771', '400461110','100140981', '400474394','100150231', '400475455', '653056', '100152858', '400504709','400507557', '100162744', '101464464','400510042','100152836', '400515891','100150199', '400514646', '100150219', '400575275'):\n",
    "        query += f''',case when actions ilike '%{k}%' then 1 else 0 end as {v}_flag'''\n",
    "query += ' from US_karma);'\n",
    "     \n",
    "print(query)\n",
    "conn.execute(query)"
   ]
  },
  {
   "cell_type": "code",
   "execution_count": 0,
   "metadata": {
    "application/vnd.databricks.v1+cell": {
     "cellMetadata": {
      "byteLimit": 2048000,
      "rowLimit": 10000
     },
     "inputWidgets": {},
     "nuid": "55c48eb3-a46a-43cb-afc7-35ffaea7ad7a",
     "showTitle": false,
     "tableResultSettingsMap": {},
     "title": ""
    }
   },
   "outputs": [],
   "source": [
    "b= conn.download('select * from karma_v2 where ebay_flag = 1 and no_of_merchants_new != 127 limit 5')\n",
    "b"
   ]
  },
  {
   "cell_type": "code",
   "execution_count": 0,
   "metadata": {
    "application/vnd.databricks.v1+cell": {
     "cellMetadata": {
      "byteLimit": 2048000,
      "rowLimit": 10000
     },
     "inputWidgets": {},
     "nuid": "172a9000-bbee-4e03-b1f8-bdcc185b3f74",
     "showTitle": false,
     "tableResultSettingsMap": {},
     "title": ""
    }
   },
   "outputs": [],
   "source": [
    "merchant_mapping"
   ]
  },
  {
   "cell_type": "code",
   "execution_count": 0,
   "metadata": {
    "application/vnd.databricks.v1+cell": {
     "cellMetadata": {
      "byteLimit": 2048000,
      "rowLimit": 10000
     },
     "inputWidgets": {},
     "nuid": "9843227b-7c62-47ea-add8-b31b0b6f8077",
     "showTitle": false,
     "tableResultSettingsMap": {},
     "title": ""
    }
   },
   "outputs": [],
   "source": [
    "ebay_count = 0\n",
    "nike_count = 0\n",
    "ssense_count = 0 \n",
    "coach_ct = 0\n",
    "samsung_ct = 0\n",
    "body_shop_flag = 0\n",
    "etsy_ct = 0\n",
    "apple_ct = 0\n",
    "uniqlo_ct = 0\n",
    "\n",
    "query = 'select max(1) as temp'\n",
    "for k,v in merchant_dict.items():\n",
    "    if v == '1 800 Flowers':\n",
    "        v= \"one_eight_hundred_flowers\"\n",
    "    \n",
    "    if k in ('100152771', '400461110'):\n",
    "        \n",
    "        ebay_count+=1\n",
    "        print(k,'ebay',ebay_count)\n",
    "        if ebay_count == 1:\n",
    "             query+= f''',count((case when {v}_flag=1 then consumer_uuid end)) as {v}_ct'''\n",
    "    if k in ('100140981', '400474394'):\n",
    "        nike_count+=1\n",
    "        print(k,'nike',nike_count)\n",
    "        if nike_count == 1:\n",
    "             query+= f''',count((case when {v}_flag=1 then consumer_uuid end)) as {v}_ct'''\n",
    "    if k in ('100150231', '400475455', '653056'):\n",
    "        ssense_count+=1\n",
    "        print(k,'ssense', ssense_count)\n",
    "        if ssense_count == 1:\n",
    "             query+= f''',count((case when {v}_flag=1 then consumer_uuid end)) as {v}_ct'''\n",
    "\n",
    "\n",
    "    if k in ('100152858', '400504709'):\n",
    "        coach_ct+=1\n",
    "        print(k,'coach', coach_ct)\n",
    "        if coach_ct == 1:\n",
    "             query+= f''',count((case when {v}_flag=1 then consumer_uuid end)) as {v}_ct'''\n",
    "    if k in ('400507557', '100162744'):\n",
    "        samsung_ct+=1\n",
    "        print(k,'samsung', samsung_ct)\n",
    "        if samsung_ct == 1:\n",
    "             query+= f''',count((case when {v}_flag=1 then consumer_uuid end)) as {v}_ct'''\n",
    "\n",
    "\n",
    "    if k in ('100152836', '400515891'):\n",
    "        etsy_ct+=1\n",
    "        print(k,'etsy', etsy_ct)\n",
    "        if etsy_ct == 1:\n",
    "             query+= f''',count((case when {v}_flag=1 then consumer_uuid end)) as {v}_ct'''\n",
    "    \n",
    "    if k in ('100150199', '400514646'):\n",
    "\n",
    "        apple_ct+=1\n",
    "        print(k,'apple', apple_ct)\n",
    "        if apple_ct == 1:\n",
    "             query+= f''',count((case when {v}_flag=1 then consumer_uuid end)) as {v}_ct'''\n",
    "    if k in ('100150219', '400575275'):\n",
    "\n",
    "        uniqlo_ct+=1\n",
    "        print(k,'uniqlo', uniqlo_ct)\n",
    "        if uniqlo_ct == 1:\n",
    "             query+= f''',count((case when {v}_flag=1 then consumer_uuid end)) as {v}_ct'''\n",
    "\n",
    "    \n",
    "\n",
    "    v = v.replace(\"&\",'')\n",
    "    v = v.replace(\"'\",'')\n",
    "    v = v.replace(\",\",'')\n",
    "\n",
    "    v = v.replace(\"-\",'')\n",
    "    v = v.replace(\" \", \"_\") \n",
    "    v = v.replace(\".\", \"dot\")\n",
    "    if k in ('101464464','400510042'):\n",
    "        body_shop_flag+=1\n",
    "        print(k,'coach', body_shop_flag)\n",
    "        if body_shop_flag == 1:\n",
    "             query+= f''',count((case when {v}_flag=1 then consumer_uuid end)) as {v}_ct'''\n",
    "   \n",
    "    if k not in ('100152771', '400461110','100140981', '400474394','100150231', '400475455', '653056', '100152858', '400504709','400507557', '100162744', '101464464','400510042','100152836', '400515891','100150199', '400514646', '100150219', '400575275'):\n",
    "        query += f''',count((case when {v}_flag=1 then consumer_uuid end)) as {v}_ct'''\n",
    "query += ''' from karma_v2 where par_region = 'US' and tenure_grp !='tenured' and no_of_merchants_new!=127;'''\n",
    "     \n",
    "print(query)\n"
   ]
  },
  {
   "cell_type": "code",
   "execution_count": 0,
   "metadata": {
    "application/vnd.databricks.v1+cell": {
     "cellMetadata": {
      "byteLimit": 2048000,
      "rowLimit": 10000
     },
     "inputWidgets": {},
     "nuid": "71ac3e83-11d3-445b-98c2-d778ef1b374c",
     "showTitle": false,
     "tableResultSettingsMap": {},
     "title": ""
    }
   },
   "outputs": [],
   "source": [
    "output = conn.download(query)"
   ]
  },
  {
   "cell_type": "code",
   "execution_count": 0,
   "metadata": {
    "application/vnd.databricks.v1+cell": {
     "cellMetadata": {},
     "inputWidgets": {},
     "nuid": "c66d02fd-00de-4e18-8113-e32e7ce08675",
     "showTitle": false,
     "tableResultSettingsMap": {},
     "title": ""
    }
   },
   "outputs": [],
   "source": []
  },
  {
   "cell_type": "code",
   "execution_count": 0,
   "metadata": {
    "application/vnd.databricks.v1+cell": {
     "cellMetadata": {
      "byteLimit": 2048000,
      "rowLimit": 10000
     },
     "inputWidgets": {},
     "nuid": "7de2a9aa-7a2b-4a91-aecc-a807304b7e67",
     "showTitle": false,
     "tableResultSettingsMap": {},
     "title": ""
    }
   },
   "outputs": [],
   "source": [
    "print(output.T)"
   ]
  },
  {
   "cell_type": "code",
   "execution_count": 0,
   "metadata": {
    "application/vnd.databricks.v1+cell": {
     "cellMetadata": {
      "byteLimit": 2048000,
      "rowLimit": 10000
     },
     "inputWidgets": {},
     "nuid": "23602512-41ff-432f-8c66-028be02e0eca",
     "showTitle": false,
     "tableResultSettingsMap": {},
     "title": ""
    }
   },
   "outputs": [],
   "source": [
    "conn.execute('''create or replace temp table sup_merchant_driver as (\n",
    "select distinct merchant_id, sup_yn, order_date, par_region\n",
    "from ap_cur_riskbi_g.curated_risk_bi_green.dwm_order_loss_tagging \n",
    "where sup_yn = 1\n",
    "and par_region in ('GB','US')\n",
    "and order_date between '2024-08-01' and '2025-02-28'\n",
    "--and checkpoint = 'CHECKOUT_CONFIRM'\n",
    ");''')\n",
    "\n",
    "\n",
    "\n",
    "conn.execute('''create or replace temp table sup_attempts as (\n",
    "select a.*, b.p2_overdue_d0_local, b.p2_due_local, c.sup_yn\n",
    "from ap_cur_r_frdrisk.curated_fraud_risk_red.unified_feature_datamart_base__jobyg_dsl3_sv a\n",
    "left join ap_cur_riskbi_g.curated_risk_bi_green.dwm_order_loss_tagging  b\n",
    "on a.order_token = b.order_token\n",
    "left join sup_merchant_driver c\n",
    "on a.merchant_id = c.merchant_id\n",
    "and a.par_process_date = c.order_Date\n",
    "where a.par_region in ('US','GB')\n",
    "and a.checkpoint = 'CHECKOUT_CONFIRM'\n",
    "and a.par_process_date between '2024-08-01' and '2025-02-28'\n",
    "and coalesce(days_since_first_order_date, 0) <15\n",
    "and c.sup_yn = 1\n",
    "and dedup = 1\n",
    ");''')"
   ]
  },
  {
   "cell_type": "code",
   "execution_count": 0,
   "metadata": {
    "application/vnd.databricks.v1+cell": {
     "cellMetadata": {
      "byteLimit": 2048000,
      "rowLimit": 10000
     },
     "inputWidgets": {},
     "nuid": "00ea265c-97c0-467e-b976-66f367e3a557",
     "showTitle": false,
     "tableResultSettingsMap": {},
     "title": ""
    }
   },
   "outputs": [],
   "source": [
    "conn.execute('''create or replace temp table med_high_US_users as (\n",
    "    select * from karma_v2 where no_of_merchants_new != 127);'''\n",
    ")"
   ]
  },
  {
   "cell_type": "code",
   "execution_count": 0,
   "metadata": {
    "application/vnd.databricks.v1+cell": {
     "cellMetadata": {
      "byteLimit": 2048000,
      "rowLimit": 10000
     },
     "inputWidgets": {},
     "nuid": "9fd58adb-2139-4086-b9fa-b209d9e82f41",
     "showTitle": false,
     "tableResultSettingsMap": {},
     "title": ""
    }
   },
   "outputs": [],
   "source": [
    "C = conn.download('select * from med_high_us_users limit 5')\n",
    "C"
   ]
  },
  {
   "cell_type": "code",
   "execution_count": 0,
   "metadata": {
    "application/vnd.databricks.v1+cell": {
     "cellMetadata": {
      "byteLimit": 2048000,
      "rowLimit": 10000
     },
     "inputWidgets": {},
     "nuid": "f5334a8d-492f-4404-9c9e-6e3bb40f7b8d",
     "showTitle": false,
     "tableResultSettingsMap": {},
     "title": ""
    }
   },
   "outputs": [],
   "source": [
    "eligibility_percentage = conn.download('''select eligbility_tier, count(consumer_uuid) as login_ct, count(distinct(consumer_uuid)) as consumer_ct from US_karma where tenure_grp !='tenured'group by 1 order by 1''')\n",
    "eligibility_percentage"
   ]
  },
  {
   "cell_type": "code",
   "execution_count": 0,
   "metadata": {
    "application/vnd.databricks.v1+cell": {
     "cellMetadata": {
      "byteLimit": 2048000,
      "rowLimit": 10000
     },
     "inputWidgets": {},
     "nuid": "a4478636-f2b0-4e00-a033-f99159f519ca",
     "showTitle": false,
     "tableResultSettingsMap": {},
     "title": ""
    }
   },
   "outputs": [],
   "source": [
    "conn.execute('''create or replace  table ap_cur_frdrisk_g.public.sup_attempts_eligibility_joined as (\n",
    "    select a.*, b.event_Date as sup_Risk_filter_date, b.tenure_grp, b.actions, b.no_of_merchants_new, b.eligbility_tier, b.vivid_seats_flag, b.lowes_flag, b.sams_club_flag, b.apple_flag, b.walmart_Flag, b.lululemon_flag, b.amazon_flag, b.best_buy_flag,\n",
    "    case when vivid_seats_flag = 1 or lowes_flag = 1 or sams_club_flag =1 or apple_flag = 1 or walmart_Flag =1 or lululemon_flag =1 or amazon_flag =1 or best_buy_flag =1 then 1 else 0 end as hrm_enabled_flag\n",
    "    from sup_attempts a \n",
    "    left join  karma_v2 b\n",
    "    on a.consumer_uuid = b.consumer_uuid\n",
    "    AND b.event_info_event_Time <= a.checkout_Time\n",
    "    where a.consumer_uuid in (select consumer_uuid from karma_v2)\n",
    "    qualify ROW_NUMBER() OVER (\n",
    "            PARTITION BY b.consumer_uuid, a.checkout_Time\n",
    "            ORDER BY b.event_info_event_Time DESC\n",
    "        ) =1);'''\n",
    ")"
   ]
  },
  {
   "cell_type": "code",
   "execution_count": 0,
   "metadata": {
    "application/vnd.databricks.v1+cell": {
     "cellMetadata": {
      "byteLimit": 2048000,
      "rowLimit": 10000
     },
     "inputWidgets": {},
     "nuid": "31beecfc-8b4f-471a-bb29-04d7837b9104",
     "showTitle": false,
     "tableResultSettingsMap": {},
     "title": ""
    }
   },
   "outputs": [],
   "source": [
    "conn.execute('''create or replace  table ap_cur_frdrisk_g.public.sup_attempts_eligibility_joined_v2 as (\n",
    "    select a.*, b.event_Date as sup_Risk_filter_date, b.tenure_grp, b.actions, b.no_of_merchants_new, b.eligbility_tier, b.vivid_seats_flag, b.lowes_flag, b.sams_club_flag, b.apple_flag, b.walmart_Flag, b.lululemon_flag, b.amazon_flag, b.best_buy_flag,\n",
    "    case when vivid_seats_flag = 1 or lowes_flag = 1 or sams_club_flag =1 or apple_flag = 1 or walmart_Flag =1 or lululemon_flag =1 or amazon_flag =1 or best_buy_flag =1 then 1 else 0 end as hrm_enabled_flag\n",
    "    from sup_attempts a \n",
    "    left join  karma_v2 b\n",
    "    on a.consumer_uuid = b.consumer_uuid\n",
    "    AND b.event_info_event_Time <= a.checkout_Time\n",
    "    where a.consumer_uuid in (select consumer_uuid from karma_v2)\n",
    "    qualify ROW_NUMBER() OVER (\n",
    "            PARTITION BY b.consumer_uuid, a.checkout_Time\n",
    "            ORDER BY b.event_info_event_Time asc\n",
    "        ) =1);'''\n",
    ")"
   ]
  },
  {
   "cell_type": "code",
   "execution_count": 0,
   "metadata": {
    "application/vnd.databricks.v1+cell": {
     "cellMetadata": {},
     "inputWidgets": {},
     "nuid": "d51f0939-fce1-4352-af54-4eeb2f1c6547",
     "showTitle": false,
     "tableResultSettingsMap": {},
     "title": ""
    }
   },
   "outputs": [],
   "source": [
    "conn.execute('''create or replace  table ap_cur_frdrisk_g.public.sup_attempts_med_high_risk_users as (\n",
    "    select a.*, b.event_Date as sup_Risk_filter_date, b.tenure_grp, b.actions, b.no_of_merchants_new, b.eligbility_tier, b.vivid_seats_flag, b.lowes_flag, b.sams_club_flag, b.apple_flag, b.walmart_Flag, b.lululemon_flag, b.amazon_flag, b.best_buy_flag,\n",
    "    case when vivid_seats_flag = 1 or lowes_flag = 1 or sams_club_flag =1 or apple_flag = 1 or walmart_Flag =1 or lululemon_flag =1 or amazon_flag =1 or best_buy_flag =1 then 1 else 0 end as hrm_enabled_flag\n",
    "    from sup_attempts a \n",
    "    left join  med_high_us_users b\n",
    "    on a.consumer_uuid = b.consumer_uuid\n",
    "    AND b.event_info_event_Time <= a.checkout_Time\n",
    "    where a.consumer_uuid in (select consumer_uuid from med_high_US_users)\n",
    "    qualify ROW_NUMBER() OVER (\n",
    "            PARTITION BY b.consumer_uuid, a.checkout_Time\n",
    "            ORDER BY b.event_info_event_Time DESC\n",
    "        ) =1);'''\n",
    ")"
   ]
  },
  {
   "cell_type": "code",
   "execution_count": 0,
   "metadata": {
    "application/vnd.databricks.v1+cell": {
     "cellMetadata": {
      "byteLimit": 2048000,
      "rowLimit": 10000
     },
     "inputWidgets": {},
     "nuid": "4c22c6ab-ae2d-403a-be98-92f73f9bf060",
     "showTitle": false,
     "tableResultSettingsMap": {},
     "title": ""
    }
   },
   "outputs": [],
   "source": [
    "test = conn.download('''\n",
    "             select \n",
    "                case when bp_c_batch_consumer_batch_model_v1 >= 800  then 'H'\n",
    "                     when  bp_c_batch_consumer_batch_model_v1 between 700 and 800 or \n",
    "                     bp_c_batch_consumer_batch_model_v1 = -999 and whitepages_identity_check_score <= 350 then 'M'\n",
    "                     else 'null' end as risk_level,\n",
    "                amazon_Flag,\n",
    "                count(distinct(consumer_uuid)) as consumer_ct,\n",
    "                count(distinct(order_token)) as token_ct,\n",
    "                sum(order_amount_local) as gpv\n",
    "                from sup_attempts_med_high_risk_users\n",
    "                group by 1,2,3\n",
    "                order by 1,2,3;\n",
    "             ''')"
   ]
  },
  {
   "cell_type": "code",
   "execution_count": 0,
   "metadata": {
    "application/vnd.databricks.v1+cell": {
     "cellMetadata": {
      "byteLimit": 2048000,
      "rowLimit": 10000
     },
     "inputWidgets": {},
     "nuid": "cf7075f9-597e-4aef-b0a2-03b1b43f9e43",
     "showTitle": false,
     "tableResultSettingsMap": {},
     "title": ""
    }
   },
   "outputs": [],
   "source": [
    "test = conn.download('''select * from US_karma where consumer_uuid = 'd5580f54-008e-4a03-becc-54f4af78e4a0'  ''')"
   ]
  },
  {
   "cell_type": "code",
   "execution_count": 0,
   "metadata": {
    "application/vnd.databricks.v1+cell": {
     "cellMetadata": {
      "byteLimit": 2048000,
      "rowLimit": 10000
     },
     "inputWidgets": {},
     "nuid": "5714fb99-f544-4550-a00f-eab53e5a6723",
     "showTitle": false,
     "tableResultSettingsMap": {},
     "title": ""
    }
   },
   "outputs": [],
   "source": [
    "test.sort_values(by='event_date')"
   ]
  },
  {
   "cell_type": "code",
   "execution_count": 0,
   "metadata": {
    "application/vnd.databricks.v1+cell": {
     "cellMetadata": {
      "byteLimit": 2048000,
      "rowLimit": 10000
     },
     "inputWidgets": {},
     "nuid": "bc76c7f1-873d-4ee1-bec4-6587f2e403ab",
     "showTitle": false,
     "tableResultSettingsMap": {},
     "title": ""
    }
   },
   "outputs": [],
   "source": [
    "\n",
    "## find all medium & high risk who had access to amazon, walmart, best buy"
   ]
  },
  {
   "cell_type": "code",
   "execution_count": 0,
   "metadata": {
    "application/vnd.databricks.v1+cell": {
     "cellMetadata": {
      "byteLimit": 2048000,
      "rowLimit": 10000
     },
     "inputWidgets": {},
     "nuid": "c6972199-f780-46a4-a51f-9ed8b628cbf6",
     "showTitle": false,
     "tableResultSettingsMap": {},
     "title": ""
    }
   },
   "outputs": [],
   "source": [
    "import hashlib\n",
    "def _track_key(consumer_uuid, salt):\n",
    "    test_id = str(consumer_uuid) + str(salt)\n",
    "    test_id_hashed =hashlib.md5(test_id.encode('ascii')).hexdigest()\n",
    "    test_id_first_digits = test_id_hashed[:6]\n",
    "    test_id_final_int = int(test_id_first_digits,16)\n",
    "    test_key = (test_id_final_int/0xFFFFFF)\n",
    "    return(test_key)\n",
    "\n",
    "a = _track_key('733ff59c-a307-4c04-bf89-5ac3bc8c7d3e', 'eligibility_and_rule_sup')\n",
    "\n",
    "consumer_id = '733ff59c-a307-4c04-bf89-5ac3bc8c7d3e'\n",
    "\n",
    "salt = 'eligibility_and_rule_sup'\n",
    "\n",
    "a"
   ]
  },
  {
   "cell_type": "code",
   "execution_count": 0,
   "metadata": {
    "application/vnd.databricks.v1+cell": {
     "cellMetadata": {},
     "inputWidgets": {},
     "nuid": "891fbd29-6210-4421-9d01-d2e2043166c2",
     "showTitle": false,
     "tableResultSettingsMap": {},
     "title": ""
    }
   },
   "outputs": [],
   "source": []
  }
 ],
 "metadata": {
  "application/vnd.databricks.v1+notebook": {
   "computePreferences": null,
   "dashboards": [],
   "environmentMetadata": {
    "base_environment": "",
    "environment_version": "2"
   },
   "inputWidgetPreferences": null,
   "language": "python",
   "notebookMetadata": {
    "pythonIndentUnit": 4
   },
   "notebookName": "3_27_US_SUP_Eligibility_Analysis",
   "widgets": {}
  },
  "language_info": {
   "name": "python"
  }
 },
 "nbformat": 4,
 "nbformat_minor": 0
}
